{
 "cells": [
  {
   "cell_type": "code",
   "execution_count": 1,
   "metadata": {
    "collapsed": false
   },
   "outputs": [],
   "source": [
    "from smap.archiver.client import SmapClient                                                                                                                                                                                                                                                                                   \n",
    "from smap.contrib import dtutil                                                                                                                                                                                                                                                                                               \n",
    "import json                                                                                                                                                                                                                                                                                                                   \n",
    "import pandas as pd\n",
    "from matplotlib import pyplot as plt\n",
    "import networkx as nx\n",
    "import sys\n",
    "import numpy as np\n",
    "import itertools\n",
    "from datetime import datetime\n",
    "from functools import reduce\n",
    "np.set_printoptions(precision=3)\n",
    "%matplotlib inline"
   ]
  },
  {
   "cell_type": "code",
   "execution_count": 2,
   "metadata": {
    "collapsed": false
   },
   "outputs": [
    {
     "name": "stdout",
     "output_type": "stream",
     "text": [
      "<smap.archiver.client.SmapClient instance at 0x7fbb6763d248>\n",
      "SDH_floor_4_temperature_uuids.json\n",
      "\n",
      "downloaded 1584b from 24 urls in 1.273s (0.001MB/s download: 1.273s, parse: 0.000835s)\n"
     ]
    }
   ],
   "source": [
    "# fetch data\n",
    "c = SmapClient(\"http://new.openbms.org:8079\")\n",
    "print c\n",
    "uuid_file = \"SDH_floor_4_temperature_uuids.json\"\n",
    "start_time = dtutil.dt2ts(dtutil.strptime_tz(\"10-30-2016\", \"%m-%d-%Y\"))\n",
    "end_time = dtutil.dt2ts(dtutil.strptime_tz(\"11-30-2016\", \"%m-%d-%Y\"))\n",
    "                                                                                                                                                                                                                                                                                                                              \n",
    "print uuid_file                                                                                                                                                                                                                                                                                                               \n",
    "uuids = json.load(open(uuid_file))\n",
    "data = c.data_uuid(uuids, start_time, end_time,limit=10000)"
   ]
  },
  {
   "cell_type": "code",
   "execution_count": 3,
   "metadata": {
    "collapsed": false
   },
   "outputs": [
    {
     "name": "stdout",
     "output_type": "stream",
     "text": [
      "{'Path': '/Siemens/SDH.PXCM-11/SDH/S4-19/ROOM_TEMP', 'uuid': 'a7aad37c-6dd8-5252-8443-65471582f8e9', 'Metadata': {'SourceName': 'Sutardja Dai Hall BACnet', 'Location': {'Building': 'Sutardja Dai Hall', 'Campus': 'UCB'}, 'PointName': 'SDH.S4-19:ROOM TEMP', 'Extra': {'Type': 'room temperature', 'Vav': 'S4-19'}}, 'Properties': {'Timezone': 'America/Los_Angeles', 'UnitofMeasure': 'F', 'ReadingType': 'double'}, 'Description': '477 WOMENS BATH'}\n"
     ]
    }
   ],
   "source": [
    "metadata_file = 'SDH_floor_4_metadata.json'\n",
    "_metadata = json.load(open(metadata_file))\n",
    "sensor_metadata = {}\n",
    "for doc in _metadata:\n",
    "    sensor_metadata[doc['uuid']] = doc\n",
    "    sensor_metadata[doc['Metadata']['Instrument']['PartNumber']] = doc\n",
    "\n",
    "# grab VAV metadata\n",
    "_metadata = c.query(\"select * where Metadata/SourceName = 'Sutardja Dai Hall BACnet' and Path ~ '.*ROOM_TEMP' and Metadata/Extra/Vav ~ 'S4.*'\")\n",
    "print _metadata[0]\n",
    "vav_metadata = {}\n",
    "for doc in _metadata:\n",
    "    vavid = doc['Metadata']['Extra']['Vav']\n",
    "    room = doc['Description'].split(' ')[0]\n",
    "    uuid = doc['uuid']\n",
    "    insert = {\n",
    "            'VAV': vavid,\n",
    "            'Room': room,\n",
    "            'uuid': uuid,\n",
    "        }\n",
    "    vav_metadata[vavid] = insert\n",
    "    vav_metadata[room] = insert\n",
    "    vav_metadata[uuid] = insert\n",
    "\n",
    "def uuid_to_ketiid(uuid):\n",
    "    return sensor_metadata[uuid]['Metadata']['Instrument']['PartNumber']\n",
    "def ketiid_to_vavid(ketiid):\n",
    "    vav = sensor_metadata[ketiid]['Metadata']['Extra']['VAV']\n",
    "    print ketiid, vav\n",
    "    "
   ]
  },
  {
   "cell_type": "code",
   "execution_count": 4,
   "metadata": {
    "collapsed": false
   },
   "outputs": [
    {
     "name": "stdout",
     "output_type": "stream",
     "text": [
      "0bfbd947-40a2-5454-a352-1375790c604d 1707    4763\n",
      "dtype: int64\n",
      "19dac044-e8ae-5ed4-a789-a46d2cd9d375 1709    7964\n",
      "dtype: int64\n",
      "1f17fd93-8009-5153-926f-54395c421d93 1715    162\n",
      "dtype: int64\n",
      "27e71c02-6a7c-5d29-9d7e-3b437f9f6c46 1706    6128\n",
      "dtype: int64\n",
      "2a756197-f1b3-56eb-ab87-a61111bdd80b 1624    438\n",
      "dtype: int64\n",
      "2e22715f-9d3e-5c5d-b90c-8b6226e29cca 1712    7975\n",
      "dtype: int64\n",
      "31e75b66-41bf-518d-a144-f3e144f396e5 1713    7978\n",
      "dtype: int64\n",
      "3d4496b0-63e8-5d88-890a-cbce6f1202a6 1716    7977\n",
      "dtype: int64\n",
      "41d4673c-0926-5c58-91a3-7c440ed6962c 1631    1854\n",
      "dtype: int64\n",
      "4fa00ebf-6387-5183-b987-2b54e1031ec4 1627    4278\n",
      "dtype: int64\n",
      "6b0b7685-fd48-5d27-840c-d730ed6681d7 1628    688\n",
      "dtype: int64\n",
      "6d03bfef-f70e-5c58-953c-d9b52c41835c 1632    2969\n",
      "dtype: int64\n",
      "9165f400-355d-506a-8afa-421273d02010 1702    409\n",
      "dtype: int64\n",
      "a988771e-b6c8-5b2e-9c23-ad88e5efe3e6 1630    377\n",
      "dtype: int64\n",
      "c796ac06-e7fc-5127-b105-ebc3101a43be 1622    7954\n",
      "dtype: int64\n",
      "d0184967-52c2-5c3f-ad90-6e49f10faa7e 1629    7974\n",
      "dtype: int64\n"
     ]
    }
   ],
   "source": [
    "# build data frames\n",
    "temperatures = {}\n",
    "for uuid, datas in zip(uuids, data):             \n",
    "    if len(datas) == 0: continue\n",
    "    df = pd.DataFrame.from_records(datas)\n",
    "    df = df.set_index(pd.to_datetime(df.pop(0), unit='ms'))\n",
    "    df = df.resample('5min').mean()\n",
    "    df.columns = [int(uuid_to_ketiid(uuid))]\n",
    "    temperatures[uuid] = df\n",
    "    print uuid, df.count()"
   ]
  },
  {
   "cell_type": "code",
   "execution_count": 5,
   "metadata": {
    "collapsed": false
   },
   "outputs": [
    {
     "name": "stdout",
     "output_type": "stream",
     "text": [
      "16\n"
     ]
    }
   ],
   "source": [
    "print len(temperatures)"
   ]
  },
  {
   "cell_type": "code",
   "execution_count": 6,
   "metadata": {
    "collapsed": false
   },
   "outputs": [
    {
     "name": "stdout",
     "output_type": "stream",
     "text": [
      "8600\n"
     ]
    },
    {
     "data": {
      "text/plain": [
       "<matplotlib.axes._subplots.AxesSubplot at 0x7fbb5cffe090>"
      ]
     },
     "execution_count": 6,
     "metadata": {},
     "output_type": "execute_result"
    },
    {
     "data": {
      "image/png": "[encoded data removed]",
      "text/plain": [
       "<matplotlib.figure.Figure at 0x7fbbb05f9050>"
      ]
     },
     "metadata": {},
     "output_type": "display_data"
    }
   ],
   "source": [
    "# merge all timeseries into the same data frame\n",
    "dfs = temperatures.values()\n",
    "current = dfs[0]\n",
    "for df in dfs[1:]:\n",
    "    current = current.merge(df, how='outer',left_index=True, right_index=True)\n",
    "print len(current)\n",
    "current.plot(legend=False)"
   ]
  },
  {
   "cell_type": "code",
   "execution_count": 7,
   "metadata": {
    "collapsed": false
   },
   "outputs": [
    {
     "data": {
      "image/png": "[encoded data removed]",
      "text/plain": [
       "<matplotlib.figure.Figure at 0x7fbb67669550>"
      ]
     },
     "metadata": {},
     "output_type": "display_data"
    }
   ],
   "source": [
    "# Generate the SDH graph\n",
    "nodes = range(1,55) # 1 - 54\n",
    "sdh_graph_edges = [\n",
    "    (1,8),\n",
    "    (8,9),\n",
    "    (9,2),\n",
    "    (9,10),\n",
    "    (10,3),\n",
    "    (10,11),\n",
    "    (11,4),\n",
    "    (11,12),\n",
    "    (12,5),\n",
    "    (12,13),\n",
    "    (13,6),\n",
    "    (13,14),\n",
    "    (14,7),\n",
    "    (14,54),\n",
    "    (54,22),\n",
    "    (15,16),\n",
    "    (16,17),\n",
    "    (17,18),\n",
    "    (18,19),\n",
    "    (19,20),\n",
    "    (20,21),\n",
    "    (21,22),\n",
    "    (22,23),\n",
    "    (23,24),\n",
    "    (24,25),\n",
    "    (25,26),\n",
    "    (26,27),\n",
    "    (27,28),\n",
    "    (42,53),\n",
    "    (15,29),\n",
    "    (29,30),\n",
    "    (30,31),\n",
    "    (31,32),\n",
    "    (32,33),\n",
    "    (33,34),\n",
    "    (34,35),\n",
    "    (35,36),\n",
    "    (36,37),\n",
    "    (37,38),\n",
    "    (39,40),\n",
    "    (40,41),\n",
    "    (41,42),\n",
    "    (16,30),\n",
    "    (17,31),\n",
    "    (18,32),\n",
    "    (19,33),\n",
    "    (20,34),\n",
    "    (21,35),\n",
    "    (22,36),\n",
    "    (23,37),\n",
    "    (24,38),\n",
    "    (25,39),\n",
    "    (26,40),\n",
    "    (27,41),\n",
    "    (28,42),\n",
    "    (30,43),\n",
    "    (31,44),\n",
    "    (32,45),\n",
    "    (33,46),\n",
    "    (35,47),\n",
    "    (35,48),\n",
    "    (37,49),\n",
    "    (37,50),\n",
    "    (40,51),\n",
    "    (40,52)\n",
    "]\n",
    "G = nx.Graph()\n",
    "G.add_edges_from(sdh_graph_edges)\n",
    "pos = nx.spring_layout(G, iterations=500, k=2.0, scale=10.0)\n",
    "pos = dict((n,(n, n%10+1)) for n in G.nodes())\n",
    "nx.draw(G,pos,node_size=500,with_labels=True)\n",
    "# mapping of sensors to microzones (nodes):\n",
    "keti_mapping = {\n",
    "    1711: 1,\n",
    "    1712: 2,\n",
    "    1713: 3,\n",
    "    1714: 4,\n",
    "    1715: 5,\n",
    "    1716: 6,\n",
    "    1717: 12,\n",
    "    1718: 13,\n",
    "    1719: 14,\n",
    "    1632: 16,\n",
    "    1631: 21,\n",
    "    1630: 28,\n",
    "    1621: 30,\n",
    "    1622: 31,\n",
    "    1624: 35,\n",
    "    1625: 38,\n",
    "    1626: 39,\n",
    "    1627: 40,\n",
    "    1628: 41,\n",
    "    1629: 42,\n",
    "    1708: 43,\n",
    "    1707: 44,\n",
    "    1706: 45,\n",
    "    1705: 46,\n",
    "    1704: 47,\n",
    "    1703: 48,\n",
    "    1701: 49,\n",
    "    1702: 50,\n",
    "    1709: 51,\n",
    "}"
   ]
  },
  {
   "cell_type": "code",
   "execution_count": null,
   "metadata": {
    "collapsed": false
   },
   "outputs": [],
   "source": [
    "# want to rename the data columns in terms of which node in the graph they are\n",
    "# also need data for all of the nodes: \"easiest\" way is to take average of temperatures of nearby nodes\n",
    "# This is what gets put in 'sdh_idea1.csv'\n",
    "\n",
    "# First take our empirical data and replace the keti ids with the node ids\n",
    "current = current.rename(columns=keti_mapping)\n",
    "# Now we need to \"fill\" the graph: For each node for which we have original data (make this list at the beginning),\n",
    "# we do a breadth-first traversal through the tree. At each node we visit, its temperature becomes the average of\n",
    "# its neighboring nodes; if the node's neighbors do not have any values, then we just use the value we are\n",
    "# propagating from; if the node already has a value (that's not an empirical value), then its new value is the\n",
    "# average of its new temperature and its neighbors (using the propagating value if neighbors have no values)\n",
    "empirical_nodes = current.columns\n",
    "data_row = current.iloc[0]\n",
    "result = pd.DataFrame()\n",
    "rownum = 0\n",
    "t = datetime.now()\n",
    "for row in current.iterrows():\n",
    "    rownum += 1\n",
    "    for en in empirical_nodes:\n",
    "        data_row = row[1]\n",
    "        if pd.isnull(data_row[en]):\n",
    "            #print en,'has no data'\n",
    "            continue\n",
    "        propagate_point = data_row[en]\n",
    "        bfs_edges = nx.algorithms.traversal.bfs_edges(G, en)\n",
    "        # the 2nd item (index 1) of each edge is the next node\n",
    "        bfs_nodes = [x[1] for x in bfs_edges if x[1] not in empirical_nodes or pd.isnull(data_row[x[1]])]\n",
    "        for node in bfs_nodes:\n",
    "            neighbors = G.neighbors(node)\n",
    "            # get data from neighbors\n",
    "            datas = [data_row.get(n, propagate_point) for n in neighbors]\n",
    "            # get data from ourself\n",
    "            datas.append(data_row.get(node, propagate_point))\n",
    "            # filter out nans\n",
    "            datas = filter(lambda x: not pd.isnull(x), datas)\n",
    "            data_row[node] = np.mean(datas)\n",
    "    if rownum % 1000 == 0:\n",
    "        print rownum, len(current), (datetime.now()-t).total_seconds()\n",
    "        t = datetime.now()\n",
    "    result = result.append(data_row)"
   ]
  },
  {
   "cell_type": "code",
   "execution_count": null,
   "metadata": {
    "collapsed": false
   },
   "outputs": [],
   "source": []
  },
  {
   "cell_type": "code",
   "execution_count": null,
   "metadata": {
    "collapsed": true
   },
   "outputs": [],
   "source": [
    "# compute whether or not temperature going up or not\n",
    "df = current.copy()\n",
    "diffs = df.interpolate(method='time').diff(axis=0)\n",
    "diffs[diffs > 0] = 1\n",
    "diffs[diffs < 0] = -1\n",
    "diffs = diffs.fillna(0)\n",
    "diffs.plot(legend=False)\n",
    "diffs.tail()\n",
    "diffs.to_csv(\"idea1.csv\",sep=\"\\t\",header=True,index=False)"
   ]
  },
  {
   "cell_type": "code",
   "execution_count": 71,
   "metadata": {
    "collapsed": false,
    "scrolled": true
   },
   "outputs": [
    {
     "name": "stdout",
     "output_type": "stream",
     "text": [
      "   1706  1702  1632  1630  1712  1627  1629  1628  1716  1713  1631  1707  \\\n",
      "0   0.0   0.0   0.0   0.0   0.0   0.0   0.0   0.0   0.0   0.0   0.0   0.0   \n",
      "1   0.0  -1.0   0.0   0.0   0.0   0.0   0.0   0.0   0.0   0.0   0.0   0.0   \n",
      "2   0.0  -1.0   0.0   0.0   0.0   0.0   0.0   0.0   0.0   0.0   0.0   0.0   \n",
      "3   0.0  -1.0   0.0   0.0   0.0   0.0   0.0   0.0   0.0   0.0   0.0   0.0   \n",
      "4   0.0  -1.0   0.0   0.0   0.0   0.0   0.0   0.0   0.0   0.0   0.0   0.0   \n",
      "\n",
      "   1715  1624  1709  1622  \n",
      "0   0.0   0.0   0.0   0.0  \n",
      "1   0.0   0.0   0.0   0.0  \n",
      "2   0.0   0.0   0.0   0.0  \n",
      "3   0.0   0.0   0.0   0.0  \n",
      "4   0.0   0.0   0.0   0.0  \n"
     ]
    },
    {
     "ename": "KeyError",
     "evalue": "1",
     "output_type": "error",
     "traceback": [
      "\u001b[1;31m---------------------------------------------------------------------------\u001b[0m",
      "\u001b[1;31mKeyError\u001b[0m                                  Traceback (most recent call last)",
      "\u001b[1;32m<ipython-input-71-20073b2466c7>\u001b[0m in \u001b[0;36m<module>\u001b[1;34m()\u001b[0m\n\u001b[0;32m    158\u001b[0m \u001b[1;32mfor\u001b[0m \u001b[0mge\u001b[0m \u001b[1;32min\u001b[0m \u001b[0msdh_graph_edges\u001b[0m\u001b[1;33m:\u001b[0m\u001b[1;33m\u001b[0m\u001b[0m\n\u001b[0;32m    159\u001b[0m     \u001b[0medges\u001b[0m\u001b[1;33m.\u001b[0m\u001b[0mappend\u001b[0m\u001b[1;33m(\u001b[0m\u001b[0mTable\u001b[0m\u001b[1;33m(\u001b[0m\u001b[0mpsi\u001b[0m\u001b[1;33m,\u001b[0m \u001b[0mge\u001b[0m\u001b[1;33m)\u001b[0m\u001b[1;33m)\u001b[0m\u001b[1;33m\u001b[0m\u001b[0m\n\u001b[1;32m--> 160\u001b[1;33m \u001b[0mrun\u001b[0m\u001b[1;33m(\u001b[0m\u001b[0mdata\u001b[0m\u001b[1;33m,\u001b[0m \u001b[0medges\u001b[0m\u001b[1;33m)\u001b[0m\u001b[1;33m\u001b[0m\u001b[0m\n\u001b[0m",
      "\u001b[1;32m<ipython-input-71-20073b2466c7>\u001b[0m in \u001b[0;36mrun\u001b[1;34m(data, edges)\u001b[0m\n\u001b[0;32m    133\u001b[0m     \u001b[1;32mfor\u001b[0m \u001b[0mi\u001b[0m \u001b[1;32min\u001b[0m \u001b[0mrange\u001b[0m\u001b[1;33m(\u001b[0m\u001b[1;36m1\u001b[0m\u001b[1;33m,\u001b[0m\u001b[1;36m100\u001b[0m\u001b[1;33m)\u001b[0m\u001b[1;33m:\u001b[0m\u001b[1;33m\u001b[0m\u001b[0m\n\u001b[0;32m    134\u001b[0m         \u001b[1;32mfor\u001b[0m \u001b[0medge\u001b[0m \u001b[1;32min\u001b[0m \u001b[0mG\u001b[0m\u001b[1;33m.\u001b[0m\u001b[0medges\u001b[0m\u001b[1;33m:\u001b[0m\u001b[1;33m\u001b[0m\u001b[0m\n\u001b[1;32m--> 135\u001b[1;33m             \u001b[0mempirical_mean\u001b[0m \u001b[1;33m=\u001b[0m \u001b[0mG\u001b[0m\u001b[1;33m.\u001b[0m\u001b[0mget_empirical_marginals\u001b[0m\u001b[1;33m(\u001b[0m\u001b[0medge\u001b[0m\u001b[1;33m.\u001b[0m\u001b[0mnodes\u001b[0m\u001b[1;33m)\u001b[0m\u001b[1;33m\u001b[0m\u001b[0m\n\u001b[0m\u001b[0;32m    136\u001b[0m             \u001b[0mfactor\u001b[0m \u001b[1;33m=\u001b[0m \u001b[0mG\u001b[0m\u001b[1;33m.\u001b[0m\u001b[0mcompute_factorization\u001b[0m\u001b[1;33m(\u001b[0m\u001b[1;33m)\u001b[0m\u001b[1;33m\u001b[0m\u001b[0m\n\u001b[0;32m    137\u001b[0m             \u001b[0mmodel_mean\u001b[0m \u001b[1;33m=\u001b[0m \u001b[0mfactor\u001b[0m\u001b[1;33m.\u001b[0m\u001b[0mmarginalize\u001b[0m\u001b[1;33m(\u001b[0m\u001b[0medge\u001b[0m\u001b[1;33m.\u001b[0m\u001b[0mnodes\u001b[0m\u001b[1;33m)\u001b[0m\u001b[1;33m\u001b[0m\u001b[0m\n",
      "\u001b[1;32m<ipython-input-71-20073b2466c7>\u001b[0m in \u001b[0;36mget_empirical_marginals\u001b[1;34m(self, nodelist)\u001b[0m\n\u001b[0;32m     78\u001b[0m             \u001b[1;31m# (df[1] == 0) & (df[2] == 1) & (df[3] == 0). The creation of the list is done by this line; the compositiion\u001b[0m\u001b[1;33m\u001b[0m\u001b[1;33m\u001b[0m\u001b[0m\n\u001b[0;32m     79\u001b[0m             \u001b[1;31m# of these statements into a single condition is the next line\u001b[0m\u001b[1;33m\u001b[0m\u001b[1;33m\u001b[0m\u001b[0m\n\u001b[1;32m---> 80\u001b[1;33m             \u001b[0mcond\u001b[0m \u001b[1;33m=\u001b[0m \u001b[1;33m[\u001b[0m\u001b[1;33m(\u001b[0m\u001b[0mdf\u001b[0m\u001b[1;33m[\u001b[0m\u001b[0mnode\u001b[0m\u001b[1;33m]\u001b[0m \u001b[1;33m==\u001b[0m \u001b[0mval\u001b[0m\u001b[1;33m)\u001b[0m \u001b[1;32mfor\u001b[0m \u001b[0mnode\u001b[0m\u001b[1;33m,\u001b[0m \u001b[0mval\u001b[0m \u001b[1;32min\u001b[0m \u001b[0mzip\u001b[0m\u001b[1;33m(\u001b[0m\u001b[0mnodelist\u001b[0m\u001b[1;33m,\u001b[0m \u001b[0mstate\u001b[0m\u001b[1;33m)\u001b[0m\u001b[1;33m]\u001b[0m\u001b[1;33m\u001b[0m\u001b[0m\n\u001b[0m\u001b[0;32m     81\u001b[0m             \u001b[1;31m# combine the states into a single condition\u001b[0m\u001b[1;33m\u001b[0m\u001b[1;33m\u001b[0m\u001b[0m\n\u001b[0;32m     82\u001b[0m             \u001b[0mcond\u001b[0m \u001b[1;33m=\u001b[0m \u001b[0mnp\u001b[0m\u001b[1;33m.\u001b[0m\u001b[0mbitwise_and\u001b[0m\u001b[1;33m.\u001b[0m\u001b[0mreduce\u001b[0m\u001b[1;33m(\u001b[0m\u001b[0mcond\u001b[0m\u001b[1;33m)\u001b[0m\u001b[1;33m\u001b[0m\u001b[0m\n",
      "\u001b[1;32m/usr/local/lib/python2.7/dist-packages/pandas/core/frame.pyc\u001b[0m in \u001b[0;36m__getitem__\u001b[1;34m(self, key)\u001b[0m\n\u001b[0;32m   1990\u001b[0m             \u001b[1;32mreturn\u001b[0m \u001b[0mself\u001b[0m\u001b[1;33m.\u001b[0m\u001b[0m_getitem_multilevel\u001b[0m\u001b[1;33m(\u001b[0m\u001b[0mkey\u001b[0m\u001b[1;33m)\u001b[0m\u001b[1;33m\u001b[0m\u001b[0m\n\u001b[0;32m   1991\u001b[0m         \u001b[1;32melse\u001b[0m\u001b[1;33m:\u001b[0m\u001b[1;33m\u001b[0m\u001b[0m\n\u001b[1;32m-> 1992\u001b[1;33m             \u001b[1;32mreturn\u001b[0m \u001b[0mself\u001b[0m\u001b[1;33m.\u001b[0m\u001b[0m_getitem_column\u001b[0m\u001b[1;33m(\u001b[0m\u001b[0mkey\u001b[0m\u001b[1;33m)\u001b[0m\u001b[1;33m\u001b[0m\u001b[0m\n\u001b[0m\u001b[0;32m   1993\u001b[0m \u001b[1;33m\u001b[0m\u001b[0m\n\u001b[0;32m   1994\u001b[0m     \u001b[1;32mdef\u001b[0m \u001b[0m_getitem_column\u001b[0m\u001b[1;33m(\u001b[0m\u001b[0mself\u001b[0m\u001b[1;33m,\u001b[0m \u001b[0mkey\u001b[0m\u001b[1;33m)\u001b[0m\u001b[1;33m:\u001b[0m\u001b[1;33m\u001b[0m\u001b[0m\n",
      "\u001b[1;32m/usr/local/lib/python2.7/dist-packages/pandas/core/frame.pyc\u001b[0m in \u001b[0;36m_getitem_column\u001b[1;34m(self, key)\u001b[0m\n\u001b[0;32m   1997\u001b[0m         \u001b[1;31m# get column\u001b[0m\u001b[1;33m\u001b[0m\u001b[1;33m\u001b[0m\u001b[0m\n\u001b[0;32m   1998\u001b[0m         \u001b[1;32mif\u001b[0m \u001b[0mself\u001b[0m\u001b[1;33m.\u001b[0m\u001b[0mcolumns\u001b[0m\u001b[1;33m.\u001b[0m\u001b[0mis_unique\u001b[0m\u001b[1;33m:\u001b[0m\u001b[1;33m\u001b[0m\u001b[0m\n\u001b[1;32m-> 1999\u001b[1;33m             \u001b[1;32mreturn\u001b[0m \u001b[0mself\u001b[0m\u001b[1;33m.\u001b[0m\u001b[0m_get_item_cache\u001b[0m\u001b[1;33m(\u001b[0m\u001b[0mkey\u001b[0m\u001b[1;33m)\u001b[0m\u001b[1;33m\u001b[0m\u001b[0m\n\u001b[0m\u001b[0;32m   2000\u001b[0m \u001b[1;33m\u001b[0m\u001b[0m\n\u001b[0;32m   2001\u001b[0m         \u001b[1;31m# duplicate columns & possible reduce dimensionality\u001b[0m\u001b[1;33m\u001b[0m\u001b[1;33m\u001b[0m\u001b[0m\n",
      "\u001b[1;32m/usr/local/lib/python2.7/dist-packages/pandas/core/generic.pyc\u001b[0m in \u001b[0;36m_get_item_cache\u001b[1;34m(self, item)\u001b[0m\n\u001b[0;32m   1343\u001b[0m         \u001b[0mres\u001b[0m \u001b[1;33m=\u001b[0m \u001b[0mcache\u001b[0m\u001b[1;33m.\u001b[0m\u001b[0mget\u001b[0m\u001b[1;33m(\u001b[0m\u001b[0mitem\u001b[0m\u001b[1;33m)\u001b[0m\u001b[1;33m\u001b[0m\u001b[0m\n\u001b[0;32m   1344\u001b[0m         \u001b[1;32mif\u001b[0m \u001b[0mres\u001b[0m \u001b[1;32mis\u001b[0m \u001b[0mNone\u001b[0m\u001b[1;33m:\u001b[0m\u001b[1;33m\u001b[0m\u001b[0m\n\u001b[1;32m-> 1345\u001b[1;33m             \u001b[0mvalues\u001b[0m \u001b[1;33m=\u001b[0m \u001b[0mself\u001b[0m\u001b[1;33m.\u001b[0m\u001b[0m_data\u001b[0m\u001b[1;33m.\u001b[0m\u001b[0mget\u001b[0m\u001b[1;33m(\u001b[0m\u001b[0mitem\u001b[0m\u001b[1;33m)\u001b[0m\u001b[1;33m\u001b[0m\u001b[0m\n\u001b[0m\u001b[0;32m   1346\u001b[0m             \u001b[0mres\u001b[0m \u001b[1;33m=\u001b[0m \u001b[0mself\u001b[0m\u001b[1;33m.\u001b[0m\u001b[0m_box_item_values\u001b[0m\u001b[1;33m(\u001b[0m\u001b[0mitem\u001b[0m\u001b[1;33m,\u001b[0m \u001b[0mvalues\u001b[0m\u001b[1;33m)\u001b[0m\u001b[1;33m\u001b[0m\u001b[0m\n\u001b[0;32m   1347\u001b[0m             \u001b[0mcache\u001b[0m\u001b[1;33m[\u001b[0m\u001b[0mitem\u001b[0m\u001b[1;33m]\u001b[0m \u001b[1;33m=\u001b[0m \u001b[0mres\u001b[0m\u001b[1;33m\u001b[0m\u001b[0m\n",
      "\u001b[1;32m/usr/local/lib/python2.7/dist-packages/pandas/core/internals.pyc\u001b[0m in \u001b[0;36mget\u001b[1;34m(self, item, fastpath)\u001b[0m\n\u001b[0;32m   3223\u001b[0m \u001b[1;33m\u001b[0m\u001b[0m\n\u001b[0;32m   3224\u001b[0m             \u001b[1;32mif\u001b[0m \u001b[1;32mnot\u001b[0m \u001b[0misnull\u001b[0m\u001b[1;33m(\u001b[0m\u001b[0mitem\u001b[0m\u001b[1;33m)\u001b[0m\u001b[1;33m:\u001b[0m\u001b[1;33m\u001b[0m\u001b[0m\n\u001b[1;32m-> 3225\u001b[1;33m                 \u001b[0mloc\u001b[0m \u001b[1;33m=\u001b[0m \u001b[0mself\u001b[0m\u001b[1;33m.\u001b[0m\u001b[0mitems\u001b[0m\u001b[1;33m.\u001b[0m\u001b[0mget_loc\u001b[0m\u001b[1;33m(\u001b[0m\u001b[0mitem\u001b[0m\u001b[1;33m)\u001b[0m\u001b[1;33m\u001b[0m\u001b[0m\n\u001b[0m\u001b[0;32m   3226\u001b[0m             \u001b[1;32melse\u001b[0m\u001b[1;33m:\u001b[0m\u001b[1;33m\u001b[0m\u001b[0m\n\u001b[0;32m   3227\u001b[0m                 \u001b[0mindexer\u001b[0m \u001b[1;33m=\u001b[0m \u001b[0mnp\u001b[0m\u001b[1;33m.\u001b[0m\u001b[0marange\u001b[0m\u001b[1;33m(\u001b[0m\u001b[0mlen\u001b[0m\u001b[1;33m(\u001b[0m\u001b[0mself\u001b[0m\u001b[1;33m.\u001b[0m\u001b[0mitems\u001b[0m\u001b[1;33m)\u001b[0m\u001b[1;33m)\u001b[0m\u001b[1;33m[\u001b[0m\u001b[0misnull\u001b[0m\u001b[1;33m(\u001b[0m\u001b[0mself\u001b[0m\u001b[1;33m.\u001b[0m\u001b[0mitems\u001b[0m\u001b[1;33m)\u001b[0m\u001b[1;33m]\u001b[0m\u001b[1;33m\u001b[0m\u001b[0m\n",
      "\u001b[1;32m/usr/local/lib/python2.7/dist-packages/pandas/indexes/base.pyc\u001b[0m in \u001b[0;36mget_loc\u001b[1;34m(self, key, method, tolerance)\u001b[0m\n\u001b[0;32m   1876\u001b[0m                 \u001b[1;32mreturn\u001b[0m \u001b[0mself\u001b[0m\u001b[1;33m.\u001b[0m\u001b[0m_engine\u001b[0m\u001b[1;33m.\u001b[0m\u001b[0mget_loc\u001b[0m\u001b[1;33m(\u001b[0m\u001b[0mkey\u001b[0m\u001b[1;33m)\u001b[0m\u001b[1;33m\u001b[0m\u001b[0m\n\u001b[0;32m   1877\u001b[0m             \u001b[1;32mexcept\u001b[0m \u001b[0mKeyError\u001b[0m\u001b[1;33m:\u001b[0m\u001b[1;33m\u001b[0m\u001b[0m\n\u001b[1;32m-> 1878\u001b[1;33m                 \u001b[1;32mreturn\u001b[0m \u001b[0mself\u001b[0m\u001b[1;33m.\u001b[0m\u001b[0m_engine\u001b[0m\u001b[1;33m.\u001b[0m\u001b[0mget_loc\u001b[0m\u001b[1;33m(\u001b[0m\u001b[0mself\u001b[0m\u001b[1;33m.\u001b[0m\u001b[0m_maybe_cast_indexer\u001b[0m\u001b[1;33m(\u001b[0m\u001b[0mkey\u001b[0m\u001b[1;33m)\u001b[0m\u001b[1;33m)\u001b[0m\u001b[1;33m\u001b[0m\u001b[0m\n\u001b[0m\u001b[0;32m   1879\u001b[0m \u001b[1;33m\u001b[0m\u001b[0m\n\u001b[0;32m   1880\u001b[0m         \u001b[0mindexer\u001b[0m \u001b[1;33m=\u001b[0m \u001b[0mself\u001b[0m\u001b[1;33m.\u001b[0m\u001b[0mget_indexer\u001b[0m\u001b[1;33m(\u001b[0m\u001b[1;33m[\u001b[0m\u001b[0mkey\u001b[0m\u001b[1;33m]\u001b[0m\u001b[1;33m,\u001b[0m \u001b[0mmethod\u001b[0m\u001b[1;33m=\u001b[0m\u001b[0mmethod\u001b[0m\u001b[1;33m,\u001b[0m \u001b[0mtolerance\u001b[0m\u001b[1;33m=\u001b[0m\u001b[0mtolerance\u001b[0m\u001b[1;33m)\u001b[0m\u001b[1;33m\u001b[0m\u001b[0m\n",
      "\u001b[1;32mpandas/index.pyx\u001b[0m in \u001b[0;36mpandas.index.IndexEngine.get_loc (pandas/index.c:4027)\u001b[1;34m()\u001b[0m\n",
      "\u001b[1;32mpandas/index.pyx\u001b[0m in \u001b[0;36mpandas.index.IndexEngine.get_loc (pandas/index.c:3891)\u001b[1;34m()\u001b[0m\n",
      "\u001b[1;32mpandas/hashtable.pyx\u001b[0m in \u001b[0;36mpandas.hashtable.PyObjectHashTable.get_item (pandas/hashtable.c:12408)\u001b[1;34m()\u001b[0m\n",
      "\u001b[1;32mpandas/hashtable.pyx\u001b[0m in \u001b[0;36mpandas.hashtable.PyObjectHashTable.get_item (pandas/hashtable.c:12359)\u001b[1;34m()\u001b[0m\n",
      "\u001b[1;31mKeyError\u001b[0m: 1"
     ]
    }
   ],
   "source": [
    "class Table(object):\n",
    "    def __init__(self, matrix, nodes):\n",
    "        \"\"\"\n",
    "        matrix is an {MxMx...} matrix, with # dimensions equal to the # of nodes\n",
    "        nodes is a (sorted) list of the nodes on the edge\n",
    "        \"\"\"\n",
    "        self.matrix = matrix\n",
    "        self.nodes = nodes\n",
    "    def fetch(self, idx):\n",
    "        \"\"\"\n",
    "        idx is a dict of (node: nodestate) that we want to use to fetch a value\n",
    "        from our matrix. We will only have 2 of them.\n",
    "        If we don't have both nodes, then we return 1\n",
    "        \"\"\"\n",
    "        # fetch node names\n",
    "        nodes = idx.keys()\n",
    "        ours = set(nodes).intersection(self.nodes)\n",
    "        ours = sorted(list(ours))\n",
    "        if len(ours) != len(self.nodes):\n",
    "            return 1\n",
    "        return self.matrix[tuple([idx[i] for i in ours])]\n",
    "    def marginalize(self, target):\n",
    "        \"\"\"\n",
    "        Sum over all dimensions that aren't the dimension of [target]\n",
    "        Target is a tuple of nodes\n",
    "        \"\"\"\n",
    "        res = self.matrix\n",
    "        num = 0\n",
    "        for idx, node in enumerate(self.nodes):\n",
    "            if node in target: continue\n",
    "            res = np.sum(res, axis=idx-num)\n",
    "            num += 1\n",
    "        return res / np.sum(res)\n",
    "\n",
    "\n",
    "def multiply_edge(e1,e2):\n",
    "    \"\"\"\n",
    "    Multiplies 2 tables together, as part of a graph factorization.\n",
    "    Returns a new edge with nodes = set(e1.nodes).union(set(e2.nodes)), and matrix\n",
    "    with dimensions equal to the number of nodes in the new set\n",
    "    \"\"\"\n",
    "    nodes = list(set(e1.nodes).union(set(e2.nodes)))\n",
    "    states = itertools.product([0,1],repeat=len(nodes))\n",
    "    result = np.zeros([2]*len(nodes))\n",
    "    for state in states:\n",
    "        # creates a list of (node, nodestate) for indexing into an edge and\n",
    "        # retrieving the probability\n",
    "        idx = dict(zip(nodes, state))\n",
    "        result[(state)] = e1.fetch(idx) * e2.fetch(idx)\n",
    "    return Table(result, nodes)\n",
    "\n",
    "class Graph(object):\n",
    "    def __init__(self, data, edges):\n",
    "        self.data = data\n",
    "        self.edges = edges\n",
    "\n",
    "    def compute_factorization(self):\n",
    "        return reduce(multiply_edge, self.edges)\n",
    "\n",
    "    def get_empirical_marginals(self, nodelist):\n",
    "        \"\"\"\n",
    "        nodelist is a list of numbers (i,j,k...) that we want to get the joint empirical distribution of\n",
    "        df is a DataFrame w/ column names = the node names, and each column is a set of samples\n",
    "\n",
    "        Result is a MxM matrix where M is the number of states\n",
    "\n",
    "        Right now, assume binary variables\n",
    "        \"\"\"\n",
    "        df = self.data\n",
    "        # create the {MxMx...} matrix; the dimensionality is equal to the number of nodes in the list\n",
    "        result = np.zeros([2]*len(nodelist))\n",
    "        # create the list of all possible binary states of the N nodes\n",
    "        states = itertools.product([0,1],repeat=len(nodelist))\n",
    "        # for each of these states\n",
    "        for state in states:\n",
    "            # create the list of conditions (e.g. a selector into the dataframe that retrieves the rows where the state is true)\n",
    "            # for example, each state is something like (0,1,0); for a nodelist of (1,2,3), we create a list of\n",
    "            # (df[1] == 0) & (df[2] == 1) & (df[3] == 0). The creation of the list is done by this line; the compositiion\n",
    "            # of these statements into a single condition is the next line\n",
    "            cond = [(df[node] == val) for node, val in zip(nodelist, state)]\n",
    "            # combine the states into a single condition\n",
    "            cond = np.bitwise_and.reduce(cond)\n",
    "            # df[cond].count() returns the number of rows that match all conditions\n",
    "            avg = (df[cond].count() / df.count())[1]\n",
    "            # assign into the matrix\n",
    "            result[state] = avg\n",
    "        return result\n",
    "\n",
    "    def update_model_params(self, edge, matrix):\n",
    "        \"\"\"\n",
    "        Updates the compat matrix for the given edge\n",
    "        edge is a list of nodes (i,j,...)\n",
    "        matrix is an {MxM...} matrix\n",
    "        \"\"\"\n",
    "        for idx, e in enumerate(self.edges):\n",
    "            if e == edge:\n",
    "                self.edges[idx] = matrix\n",
    "                break\n",
    "\n",
    "    def get_compat_for_edge(self, edge):\n",
    "        \"\"\"\n",
    "        edge is a list of nodes (i,j,...)\n",
    "        Returns the matrix for the corresponding edge\n",
    "        \"\"\"\n",
    "        for e in self.edges:\n",
    "            if e == edge:\n",
    "                return e\n",
    "\n",
    "    def dump(self):\n",
    "        res = \"\"\n",
    "        for e in self.edges:\n",
    "            res += '\\nEdge {0} => {1}'.format(e.nodes, str(e.matrix).replace('\\n','\\n\\t\\t'))\n",
    "        return res\n",
    "\n",
    "    def compute_likelihood(self):\n",
    "        empiricals = self.get_empirical_marginals(list(self.data.columns))\n",
    "        factor = self.compute_factorization()\n",
    "        print empiricals.flatten()\n",
    "        print factor.matrix.flatten()\n",
    "        return np.inner(empiricals.flatten(), factor.matrix.flatten())\n",
    "\n",
    "    def compute_likelihood_edges(self):\n",
    "        factor = self.compute_factorization()\n",
    "        likelihood = 0\n",
    "        for row in self.data.itertuples():\n",
    "            row = np.array(row[1:]) # skip the first entry because its the index\n",
    "            likelihood += factor.matrix[tuple(row)]\n",
    "        return likelihood\n",
    "\n",
    "def run(data, edges):\n",
    "    G = Graph(data, edges)\n",
    "    old = \"\"\n",
    "    for i in range(1,100):\n",
    "        for edge in G.edges:\n",
    "            empirical_mean = G.get_empirical_marginals(edge.nodes)\n",
    "            factor = G.compute_factorization()\n",
    "            model_mean = factor.marginalize(edge.nodes)\n",
    "            old_compat = G.get_compat_for_edge(edge)\n",
    "            proportion = np.divide(empirical_mean, model_mean)\n",
    "            new = np.multiply(old_compat.matrix, proportion)\n",
    "            #new = new / np.sum(new) # re-normalize\n",
    "            G.update_model_params(edge, Table(new, edge.nodes))\n",
    "        new = G.dump()\n",
    "        if new == old:\n",
    "            print '-'*5,'run',i,'-'*5\n",
    "            print new\n",
    "            print G.compute_likelihood()\n",
    "            break\n",
    "        else:\n",
    "            old = new\n",
    "\n",
    "data = np.recfromtxt('idea1.csv')\n",
    "data = pd.read_csv('idea1.csv',delimiter='\\t')\n",
    "print data.head()\n",
    "\n",
    "# want to rename the data columns in terms of which node in the graph they are\n",
    "# also need data for all of the nodes: \"easiest\" way is to take average of temperatures of nearby nodes\n",
    "\n",
    "psi = np.matrix([[1,1],[1,1]])\n",
    "edges = []\n",
    "for ge in sdh_graph_edges:\n",
    "    edges.append(Table(psi, ge))\n",
    "run(data, edges)\n"
   ]
  },
  {
   "cell_type": "code",
   "execution_count": 21,
   "metadata": {
    "collapsed": false
   },
   "outputs": [
    {
     "name": "stdout",
     "output_type": "stream",
     "text": [
      "5.48362731934e-05\n"
     ]
    }
   ],
   "source": [
    "t = time.time()\n",
    "print time.s"
   ]
  },
  {
   "cell_type": "code",
   "execution_count": null,
   "metadata": {
    "collapsed": true
   },
   "outputs": [],
   "source": []
  }
 ],
 "metadata": {
  "kernelspec": {
   "display_name": "Python 2",
   "language": "python",
   "name": "python2"
  },
  "language_info": {
   "codemirror_mode": {
    "name": "ipython",
    "version": 2
   },
   "file_extension": ".py",
   "mimetype": "text/x-python",
   "name": "python",
   "nbconvert_exporter": "python",
   "pygments_lexer": "ipython2",
   "version": "2.7.12"
  }
 },
 "nbformat": 4,
 "nbformat_minor": 0
}

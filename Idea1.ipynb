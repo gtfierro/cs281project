{
 "cells": [
  {
   "cell_type": "code",
   "execution_count": 36,
   "metadata": {
    "collapsed": true
   },
   "outputs": [],
   "source": [
    "from smap.archiver.client import SmapClient                                                                                                                                                                                                                                                                                   \n",
    "from smap.contrib import dtutil                                                                                                                                                                                                                                                                                               \n",
    "import json                                                                                                                                                                                                                                                                                                                   \n",
    "import sys      \n",
    "import pandas as pd\n",
    "from matplotlib import pyplot as plt\n",
    "import networkx as nx\n",
    "%matplotlib inline"
   ]
  },
  {
   "cell_type": "code",
   "execution_count": 2,
   "metadata": {
    "collapsed": false
   },
   "outputs": [
    {
     "name": "stdout",
     "output_type": "stream",
     "text": [
      "<smap.archiver.client.SmapClient instance at 0x7f7dbd991cb0>\n",
      "SDH_floor_4_temperature_uuids.json\n",
      "\n",
      "downloaded 1584b from 24 urls in 0.766s (0.002MB/s download: 0.766s, parse: 0.000845s)\n"
     ]
    }
   ],
   "source": [
    "# fetch data\n",
    "c = SmapClient(\"http://new.openbms.org:8079\")\n",
    "print c\n",
    "uuid_file = \"SDH_floor_4_temperature_uuids.json\"\n",
    "start_time = dtutil.dt2ts(dtutil.strptime_tz(\"10-30-2016\", \"%m-%d-%Y\"))\n",
    "end_time = dtutil.dt2ts(dtutil.strptime_tz(\"11-30-2016\", \"%m-%d-%Y\"))\n",
    "                                                                                                                                                                                                                                                                                                                              \n",
    "print uuid_file                                                                                                                                                                                                                                                                                                               \n",
    "uuids = json.load(open(uuid_file))\n",
    "data = c.data_uuid(uuids, start_time, end_time,limit=10000)"
   ]
  },
  {
   "cell_type": "code",
   "execution_count": 28,
   "metadata": {
    "collapsed": false
   },
   "outputs": [
    {
     "name": "stdout",
     "output_type": "stream",
     "text": [
      "{'Path': '/Siemens/SDH.PXCM-11/SDH/S4-19/ROOM_TEMP', 'uuid': 'a7aad37c-6dd8-5252-8443-65471582f8e9', 'Metadata': {'SourceName': 'Sutardja Dai Hall BACnet', 'Location': {'Building': 'Sutardja Dai Hall', 'Campus': 'UCB'}, 'PointName': 'SDH.S4-19:ROOM TEMP', 'Extra': {'Type': 'room temperature', 'Vav': 'S4-19'}}, 'Properties': {'Timezone': 'America/Los_Angeles', 'UnitofMeasure': 'F', 'ReadingType': 'double'}, 'Description': '477 WOMENS BATH'}\n"
     ]
    }
   ],
   "source": [
    "metadata_file = 'SDH_floor_4_metadata.json'\n",
    "_metadata = json.load(open(metadata_file))\n",
    "sensor_metadata = {}\n",
    "for doc in _metadata:\n",
    "    sensor_metadata[doc['uuid']] = doc\n",
    "    sensor_metadata[doc['Metadata']['Instrument']['PartNumber']] = doc\n",
    "\n",
    "# grab VAV metadata\n",
    "_metadata = c.query(\"select * where Metadata/SourceName = 'Sutardja Dai Hall BACnet' and Path ~ '.*ROOM_TEMP' and Metadata/Extra/Vav ~ 'S4.*'\")\n",
    "print _metadata[0]\n",
    "vav_metadata = {}\n",
    "for doc in _metadata:\n",
    "    vavid = doc['Metadata']['Extra']['Vav']\n",
    "    room = doc['Description'].split(' ')[0]\n",
    "    uuid = doc['uuid']\n",
    "    insert = {\n",
    "            'VAV': vavid,\n",
    "            'Room': room,\n",
    "            'uuid': uuid,\n",
    "        }\n",
    "    vav_metadata[vavid] = insert\n",
    "    vav_metadata[room] = insert\n",
    "    vav_metadata[uuid] = insert\n",
    "\n",
    "def uuid_to_ketiid(uuid):\n",
    "    return sensor_metadata[uuid]['Metadata']['Instrument']['PartNumber']\n",
    "def ketiid_to_vavid(ketiid):\n",
    "    vav = sensor_metadata[ketiid]['Metadata']['Extra']['VAV']\n",
    "    print ketiid, vav\n",
    "    "
   ]
  },
  {
   "cell_type": "code",
   "execution_count": 29,
   "metadata": {
    "collapsed": false
   },
   "outputs": [
    {
     "name": "stdout",
     "output_type": "stream",
     "text": [
      "0bfbd947-40a2-5454-a352-1375790c604d 1707    4763\n",
      "dtype: int64\n",
      "19dac044-e8ae-5ed4-a789-a46d2cd9d375 1709    7964\n",
      "dtype: int64\n",
      "1f17fd93-8009-5153-926f-54395c421d93 1715    162\n",
      "dtype: int64\n",
      "27e71c02-6a7c-5d29-9d7e-3b437f9f6c46 1706    6128\n",
      "dtype: int64\n",
      "2a756197-f1b3-56eb-ab87-a61111bdd80b 1624    438\n",
      "dtype: int64\n",
      "2e22715f-9d3e-5c5d-b90c-8b6226e29cca 1712    7975\n",
      "dtype: int64\n",
      "31e75b66-41bf-518d-a144-f3e144f396e5 1713    7978\n",
      "dtype: int64\n",
      "3d4496b0-63e8-5d88-890a-cbce6f1202a6 1716    7977\n",
      "dtype: int64\n",
      "41d4673c-0926-5c58-91a3-7c440ed6962c 1631    1854\n",
      "dtype: int64\n",
      "4fa00ebf-6387-5183-b987-2b54e1031ec4 1627    4278\n",
      "dtype: int64\n",
      "6b0b7685-fd48-5d27-840c-d730ed6681d7 1628    688\n",
      "dtype: int64\n",
      "6d03bfef-f70e-5c58-953c-d9b52c41835c 1632    2969\n",
      "dtype: int64\n",
      "9165f400-355d-506a-8afa-421273d02010 1702    409\n",
      "dtype: int64\n",
      "a988771e-b6c8-5b2e-9c23-ad88e5efe3e6 1630    377\n",
      "dtype: int64\n",
      "c796ac06-e7fc-5127-b105-ebc3101a43be 1622    7954\n",
      "dtype: int64\n",
      "d0184967-52c2-5c3f-ad90-6e49f10faa7e 1629    7974\n",
      "dtype: int64\n"
     ]
    }
   ],
   "source": [
    "# build data frames\n",
    "temperatures = {}\n",
    "for uuid, datas in zip(uuids, data):             \n",
    "    if len(datas) == 0: continue\n",
    "    df = pd.DataFrame.from_records(datas)\n",
    "    df = df.set_index(pd.to_datetime(df.pop(0), unit='ms'))\n",
    "    df = df.resample('5min').mean()\n",
    "    df.columns = [uuid_to_ketiid(uuid)]\n",
    "    temperatures[uuid] = df\n",
    "    print uuid, df.count()"
   ]
  },
  {
   "cell_type": "code",
   "execution_count": 30,
   "metadata": {
    "collapsed": false
   },
   "outputs": [
    {
     "name": "stdout",
     "output_type": "stream",
     "text": [
      "16\n"
     ]
    }
   ],
   "source": [
    "print len(temperatures)"
   ]
  },
  {
   "cell_type": "code",
   "execution_count": 31,
   "metadata": {
    "collapsed": false
   },
   "outputs": [
    {
     "name": "stdout",
     "output_type": "stream",
     "text": [
      "8600\n"
     ]
    },
    {
     "data": {
      "text/plain": [
       "<matplotlib.axes._subplots.AxesSubplot at 0x7f7db5482dd0>"
      ]
     },
     "execution_count": 31,
     "metadata": {},
     "output_type": "execute_result"
    },
    {
     "data": {
      "image/png": "[encoded data removed]",
      "text/plain": [
       "<matplotlib.figure.Figure at 0x7f7db5506410>"
      ]
     },
     "metadata": {},
     "output_type": "display_data"
    }
   ],
   "source": [
    "# merge all timeseries into the same data frame\n",
    "dfs = temperatures.values()\n",
    "current = dfs[0]\n",
    "for df in dfs[1:]:\n",
    "    current = current.merge(df, how='outer',left_index=True, right_index=True)\n",
    "print len(current)\n",
    "current.plot(legend=False)"
   ]
  },
  {
   "cell_type": "code",
   "execution_count": 32,
   "metadata": {
    "collapsed": false
   },
   "outputs": [],
   "source": [
    "df = current.copy()"
   ]
  },
  {
   "cell_type": "code",
   "execution_count": 33,
   "metadata": {
    "collapsed": false
   },
   "outputs": [
    {
     "data": {
      "text/plain": [
       "<matplotlib.axes._subplots.AxesSubplot at 0x7f7db4ef1e90>"
      ]
     },
     "execution_count": 33,
     "metadata": {},
     "output_type": "execute_result"
    },
    {
     "data": {
      "image/png": "[encoded data removed]",
      "text/plain": [
       "<matplotlib.figure.Figure at 0x7f7dbd993750>"
      ]
     },
     "metadata": {},
     "output_type": "display_data"
    }
   ],
   "source": [
    "# compute whether or not temperature going up or not\n",
    "diffs = df.interpolate(method='time').diff(axis=0)\n",
    "diffs[diffs > 0] = 1\n",
    "diffs[diffs < 0] = -1\n",
    "diffs = diffs.fillna(0)\n",
    "diffs.plot(legend=False)"
   ]
  },
  {
   "cell_type": "code",
   "execution_count": 34,
   "metadata": {
    "collapsed": false
   },
   "outputs": [
    {
     "data": {
      "text/html": [
       "<div>\n",
       "<table border=\"1\" class=\"dataframe\">\n",
       "  <thead>\n",
       "    <tr style=\"text-align: right;\">\n",
       "      <th></th>\n",
       "      <th>1706</th>\n",
       "      <th>1702</th>\n",
       "      <th>1632</th>\n",
       "      <th>1630</th>\n",
       "      <th>1712</th>\n",
       "      <th>1627</th>\n",
       "      <th>1629</th>\n",
       "      <th>1628</th>\n",
       "      <th>1716</th>\n",
       "      <th>1713</th>\n",
       "      <th>1631</th>\n",
       "      <th>1707</th>\n",
       "      <th>1715</th>\n",
       "      <th>1624</th>\n",
       "      <th>1709</th>\n",
       "      <th>1622</th>\n",
       "    </tr>\n",
       "    <tr>\n",
       "      <th>0</th>\n",
       "      <th></th>\n",
       "      <th></th>\n",
       "      <th></th>\n",
       "      <th></th>\n",
       "      <th></th>\n",
       "      <th></th>\n",
       "      <th></th>\n",
       "      <th></th>\n",
       "      <th></th>\n",
       "      <th></th>\n",
       "      <th></th>\n",
       "      <th></th>\n",
       "      <th></th>\n",
       "      <th></th>\n",
       "      <th></th>\n",
       "      <th></th>\n",
       "    </tr>\n",
       "  </thead>\n",
       "  <tbody>\n",
       "    <tr>\n",
       "      <th>2016-11-29 03:15:00</th>\n",
       "      <td>0.0</td>\n",
       "      <td>0.0</td>\n",
       "      <td>0.0</td>\n",
       "      <td>0.0</td>\n",
       "      <td>-1.0</td>\n",
       "      <td>0.0</td>\n",
       "      <td>-1.0</td>\n",
       "      <td>0.0</td>\n",
       "      <td>-1.0</td>\n",
       "      <td>-1.0</td>\n",
       "      <td>0.0</td>\n",
       "      <td>0.0</td>\n",
       "      <td>0.0</td>\n",
       "      <td>0.0</td>\n",
       "      <td>-1.0</td>\n",
       "      <td>-1.0</td>\n",
       "    </tr>\n",
       "    <tr>\n",
       "      <th>2016-11-29 03:20:00</th>\n",
       "      <td>0.0</td>\n",
       "      <td>0.0</td>\n",
       "      <td>0.0</td>\n",
       "      <td>0.0</td>\n",
       "      <td>-1.0</td>\n",
       "      <td>0.0</td>\n",
       "      <td>-1.0</td>\n",
       "      <td>0.0</td>\n",
       "      <td>-1.0</td>\n",
       "      <td>-1.0</td>\n",
       "      <td>0.0</td>\n",
       "      <td>0.0</td>\n",
       "      <td>0.0</td>\n",
       "      <td>0.0</td>\n",
       "      <td>-1.0</td>\n",
       "      <td>-1.0</td>\n",
       "    </tr>\n",
       "    <tr>\n",
       "      <th>2016-11-29 03:25:00</th>\n",
       "      <td>0.0</td>\n",
       "      <td>0.0</td>\n",
       "      <td>0.0</td>\n",
       "      <td>0.0</td>\n",
       "      <td>-1.0</td>\n",
       "      <td>0.0</td>\n",
       "      <td>-1.0</td>\n",
       "      <td>0.0</td>\n",
       "      <td>-1.0</td>\n",
       "      <td>-1.0</td>\n",
       "      <td>0.0</td>\n",
       "      <td>0.0</td>\n",
       "      <td>0.0</td>\n",
       "      <td>0.0</td>\n",
       "      <td>-1.0</td>\n",
       "      <td>-1.0</td>\n",
       "    </tr>\n",
       "    <tr>\n",
       "      <th>2016-11-29 03:30:00</th>\n",
       "      <td>0.0</td>\n",
       "      <td>0.0</td>\n",
       "      <td>0.0</td>\n",
       "      <td>0.0</td>\n",
       "      <td>-1.0</td>\n",
       "      <td>0.0</td>\n",
       "      <td>-1.0</td>\n",
       "      <td>0.0</td>\n",
       "      <td>-1.0</td>\n",
       "      <td>-1.0</td>\n",
       "      <td>0.0</td>\n",
       "      <td>0.0</td>\n",
       "      <td>0.0</td>\n",
       "      <td>0.0</td>\n",
       "      <td>-1.0</td>\n",
       "      <td>-1.0</td>\n",
       "    </tr>\n",
       "    <tr>\n",
       "      <th>2016-11-29 03:35:00</th>\n",
       "      <td>0.0</td>\n",
       "      <td>0.0</td>\n",
       "      <td>0.0</td>\n",
       "      <td>0.0</td>\n",
       "      <td>-1.0</td>\n",
       "      <td>0.0</td>\n",
       "      <td>-1.0</td>\n",
       "      <td>0.0</td>\n",
       "      <td>-1.0</td>\n",
       "      <td>-1.0</td>\n",
       "      <td>0.0</td>\n",
       "      <td>0.0</td>\n",
       "      <td>0.0</td>\n",
       "      <td>0.0</td>\n",
       "      <td>-1.0</td>\n",
       "      <td>-1.0</td>\n",
       "    </tr>\n",
       "  </tbody>\n",
       "</table>\n",
       "</div>"
      ],
      "text/plain": [
       "                     1706  1702  1632  1630  1712  1627  1629  1628  1716  \\\n",
       "0                                                                           \n",
       "2016-11-29 03:15:00   0.0   0.0   0.0   0.0  -1.0   0.0  -1.0   0.0  -1.0   \n",
       "2016-11-29 03:20:00   0.0   0.0   0.0   0.0  -1.0   0.0  -1.0   0.0  -1.0   \n",
       "2016-11-29 03:25:00   0.0   0.0   0.0   0.0  -1.0   0.0  -1.0   0.0  -1.0   \n",
       "2016-11-29 03:30:00   0.0   0.0   0.0   0.0  -1.0   0.0  -1.0   0.0  -1.0   \n",
       "2016-11-29 03:35:00   0.0   0.0   0.0   0.0  -1.0   0.0  -1.0   0.0  -1.0   \n",
       "\n",
       "                     1713  1631  1707  1715  1624  1709  1622  \n",
       "0                                                              \n",
       "2016-11-29 03:15:00  -1.0   0.0   0.0   0.0   0.0  -1.0  -1.0  \n",
       "2016-11-29 03:20:00  -1.0   0.0   0.0   0.0   0.0  -1.0  -1.0  \n",
       "2016-11-29 03:25:00  -1.0   0.0   0.0   0.0   0.0  -1.0  -1.0  \n",
       "2016-11-29 03:30:00  -1.0   0.0   0.0   0.0   0.0  -1.0  -1.0  \n",
       "2016-11-29 03:35:00  -1.0   0.0   0.0   0.0   0.0  -1.0  -1.0  "
      ]
     },
     "execution_count": 34,
     "metadata": {},
     "output_type": "execute_result"
    }
   ],
   "source": [
    "diffs.tail()"
   ]
  },
  {
   "cell_type": "code",
   "execution_count": 35,
   "metadata": {
    "collapsed": true
   },
   "outputs": [],
   "source": [
    "diffs.to_csv(\"idea1.csv\",sep=\"\\t\",header=True,index=False)"
   ]
  },
  {
   "cell_type": "code",
   "execution_count": 63,
   "metadata": {
    "collapsed": false
   },
   "outputs": [
    {
     "data": {
      "image/png": "[encoded data removed]",
      "text/plain": [
       "<matplotlib.figure.Figure at 0x7f7da7d69fd0>"
      ]
     },
     "metadata": {},
     "output_type": "display_data"
    }
   ],
   "source": [
    "# Generate the SDH graph\n",
    "nodes = range(1,55) # 1 - 54\n",
    "edges = [\n",
    "    (1,8),\n",
    "    (8,9),\n",
    "    (9,2),\n",
    "    (9,10),\n",
    "    (10,3),\n",
    "    (10,11),\n",
    "    (11,4),\n",
    "    (11,12),\n",
    "    (12,5),\n",
    "    (12,13),\n",
    "    (13,6),\n",
    "    (13,14),\n",
    "    (14,7),\n",
    "    (14,54),\n",
    "    (54,22),\n",
    "    (15,16),\n",
    "    (16,17),\n",
    "    (17,18),\n",
    "    (18,19),\n",
    "    (19,20),\n",
    "    (20,21),\n",
    "    (21,22),\n",
    "    (22,23),\n",
    "    (23,24),\n",
    "    (24,25),\n",
    "    (25,26),\n",
    "    (26,27),\n",
    "    (27,28),\n",
    "    (42,53),\n",
    "    (15,29),\n",
    "    (29,30),\n",
    "    (30,31),\n",
    "    (31,32),\n",
    "    (32,33),\n",
    "    (33,34),\n",
    "    (34,35),\n",
    "    (35,36),\n",
    "    (36,37),\n",
    "    (37,38),\n",
    "    (39,40),\n",
    "    (40,41),\n",
    "    (41,42),\n",
    "    (16,30),\n",
    "    (17,31),\n",
    "    (18,32),\n",
    "    (19,33),\n",
    "    (20,34),\n",
    "    (21,35),\n",
    "    (22,36),\n",
    "    (23,37),\n",
    "    (24,38),\n",
    "    (25,39),\n",
    "    (26,40),\n",
    "    (27,41),\n",
    "    (28,42),\n",
    "    (30,43),\n",
    "    (31,44),\n",
    "    (32,45),\n",
    "    (33,46),\n",
    "    (35,47),\n",
    "    (35,48),\n",
    "    (37,49),\n",
    "    (37,50),\n",
    "    (40,51),\n",
    "    (40,52)\n",
    "]\n",
    "G = nx.Graph()\n",
    "G.add_edges_from(edges)\n",
    "pos = nx.spring_layout(G, iterations=500)\n",
    "nx.draw(G,pos,node_size=500,with_labels=True)"
   ]
  },
  {
   "cell_type": "code",
   "execution_count": null,
   "metadata": {
    "collapsed": false,
    "scrolled": true
   },
   "outputs": [],
   "source": []
  },
  {
   "cell_type": "code",
   "execution_count": null,
   "metadata": {
    "collapsed": true
   },
   "outputs": [],
   "source": []
  }
 ],
 "metadata": {
  "kernelspec": {
   "display_name": "Python 2",
   "language": "python",
   "name": "python2"
  },
  "language_info": {
   "codemirror_mode": {
    "name": "ipython",
    "version": 2
   },
   "file_extension": ".py",
   "mimetype": "text/x-python",
   "name": "python",
   "nbconvert_exporter": "python",
   "pygments_lexer": "ipython2",
   "version": "2.7.12"
  }
 },
 "nbformat": 4,
 "nbformat_minor": 0
}

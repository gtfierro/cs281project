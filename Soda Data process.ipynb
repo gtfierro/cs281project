{
 "cells": [
  {
   "cell_type": "code",
   "execution_count": 363,
   "metadata": {
    "collapsed": false
   },
   "outputs": [],
   "source": [
    "import pandas as pd\n",
    "import numpy as np\n",
    "import networkx as nx\n",
    "import scipy.io\n",
    "from datetime import datetime\n",
    "import matplotlib.pyplot as plt\n",
    "%matplotlib inline"
   ]
  },
  {
   "cell_type": "code",
   "execution_count": null,
   "metadata": {
    "collapsed": false
   },
   "outputs": [
    {
     "name": "stdout",
     "output_type": "stream",
     "text": [
      "0048    8318\n",
      "dtype: int64\n",
      "0024    4154\n",
      "dtype: int64\n",
      "0040    8310\n",
      "dtype: int64\n",
      "0037    8310\n",
      "dtype: int64\n",
      "0046    8313\n",
      "dtype: int64\n",
      "0047    8317\n",
      "dtype: int64\n",
      "002f    8313\n",
      "dtype: int64\n",
      "0055    8303\n",
      "dtype: int64\n",
      "004a    8318\n",
      "dtype: int64\n",
      "003f    8121\n",
      "dtype: int64\n",
      "003a    8319\n",
      "dtype: int64\n",
      "004f    8311\n",
      "dtype: int64\n"
     ]
    }
   ],
   "source": [
    "motes = [\"0024\",\"003a\",\"0047\",\"003f\",\"0046\",\"004a\",\"0024\",\"0048\",\"0055\",\"0037\",\"004f\",\"0040\",\"002f\"]\n",
    "motedict = {}\n",
    "for m in motes:\n",
    "    df = pd.read_csv(\"soda_data/{0}.csv\".format(m),names=[0,m])\n",
    "    df = df.set_index(pd.to_datetime(df.pop(0), unit='ns'))\n",
    "    df = df.resample('1min').mean()\n",
    "    motedict[m] = df\n",
    "for m, df in motedict.items():\n",
    "    print df.count()"
   ]
  },
  {
   "cell_type": "code",
   "execution_count": null,
   "metadata": {
    "collapsed": false
   },
   "outputs": [],
   "source": [
    "# merge\n",
    "dfs = motedict.values()\n",
    "current = dfs[0]\n",
    "for df in dfs[1:]:\n",
    "    current = current.merge(df, how='outer',left_index=True, right_index=True)\n",
    "print len(current)\n",
    "current.plot(legend=False, figsize=(14,4))"
   ]
  },
  {
   "cell_type": "code",
   "execution_count": 329,
   "metadata": {
    "collapsed": false
   },
   "outputs": [
    {
     "name": "stdout",
     "output_type": "stream",
     "text": [
      "11\n"
     ]
    }
   ],
   "source": [
    "# need the soda printout map!  Then we assign nodes, etc\n",
    "mote_mapping = {\n",
    "    '0047': 1,\n",
    "    '002f': 2,\n",
    "    '0037': 3,\n",
    "    '004f': 4,\n",
    "    '0048': 5,\n",
    "    '004a': 7,\n",
    "    '0046': 8,\n",
    "    '003a': 9,\n",
    "    '0024': 10,\n",
    "    '0055': 11\n",
    "}\n",
    "edges = [\n",
    "    (1,2),\n",
    "    (2,6),\n",
    "    (2,3),\n",
    "    (3,6),\n",
    "    (4,6),\n",
    "    (5,6),\n",
    "    (6,7),\n",
    "    (6,8),\n",
    "    (9,10),\n",
    "    (10,11),\n",
    "    (11,6)\n",
    "]\n",
    "physical_edges = edges\n",
    "G = nx.Graph()\n",
    "G.add_edges_from(edges)\n",
    "pos = nx.spring_layout(G, iterations=500, k=2.0, scale=10.0)\n",
    "#nx.draw(G,pos,node_size=500,with_labels=True)\n",
    "nodes = G.nodes()\n",
    "minNode = min(nodes)\n",
    "edges = G.edges()\n",
    "edges = [(nodes.index(x)+1,nodes.index(y)+1) for (x,y) in edges]\n",
    "e = np.array(edges, dtype=object)\n",
    "print len(e)\n",
    "scipy.io.savemat('soda_amplab_edges.mat',{'edges': e})\n",
    "\n",
    "# import itertools\n",
    "# edges = list(itertools.combinations(range(1,12),2))\n",
    "# full_edges = edges\n",
    "# print edges,len(edges)\n",
    "# G = nx.Graph()\n",
    "# G.add_edges_from(edges)\n",
    "# pos = nx.spring_layout(G, iterations=500, k=2.0, scale=10.0)\n",
    "# nx.draw(G,pos,node_size=500,with_labels=True)\n",
    "# nodes = G.nodes()\n",
    "# minNode = min(nodes)\n",
    "# edges = G.edges()\n",
    "# print nodes\n",
    "# edges = [(nodes.index(x)+1,nodes.index(y)+1) for (x,y) in edges]\n",
    "# print edges\n",
    "# e = np.array(edges, dtype=object)\n",
    "# print len(e)\n",
    "# scipy.io.savemat('soda_amplab_edges.mat',{'edges': e})"
   ]
  },
  {
   "cell_type": "code",
   "execution_count": 330,
   "metadata": {
    "collapsed": false
   },
   "outputs": [
    {
     "name": "stdout",
     "output_type": "stream",
     "text": [
      "Int64Index([5, 2, 8, 10, 11, 7, 3, 9, 4, 1], dtype='int64')\n",
      "1000 8320 7.066376\n",
      "2000 8320 7.046661\n",
      "3000 8320 7.026915\n",
      "4000 8320 6.75397\n",
      "5000 8320 6.898104\n",
      "6000 8320 6.857751\n",
      "7000 8320 6.925809\n",
      "8000 8320 6.983934\n"
     ]
    }
   ],
   "source": [
    "# want to rename the data columns in terms of which node in the graph they are\n",
    "# also need data for all of the nodes: \"easiest\" way is to take average of temperatures of nearby nodes\n",
    "# This is what gets put in 'sdh_idea1.csv'\n",
    "\n",
    "# First take our empirical data and replace the keti ids with the node ids\n",
    "current = current[mote_mapping.keys()].rename(columns=mote_mapping)\n",
    "# Now we need to \"fill\" the graph: For each node for which we have original data (make this list at the beginning),\n",
    "# we do a breadth-first traversal through the tree. At each node we visit, its temperature becomes the average of\n",
    "# its neighboring nodes; if the node's neighbors do not have any values, then we just use the value we are\n",
    "# propagating from; if the node already has a value (that's not an empirical value), then its new value is the\n",
    "# average of its new temperature and its neighbors (using the propagating value if neighbors have no values)\n",
    "empirical_nodes = current.columns\n",
    "print empirical_nodes\n",
    "data_row = current.iloc[0]\n",
    "result = pd.DataFrame()\n",
    "rownum = 0\n",
    "t = datetime.now()\n",
    "for row in current.iterrows():\n",
    "    rownum += 1\n",
    "    for en in empirical_nodes:\n",
    "        data_row = row[1]\n",
    "        if pd.isnull(data_row[en]):\n",
    "            #print en,'has no data'\n",
    "            continue\n",
    "        propagate_point = data_row[en]\n",
    "        bfs_edges = nx.algorithms.traversal.bfs_edges(G, en)\n",
    "        # the 2nd item (index 1) of each edge is the next node\n",
    "        bfs_nodes = [x[1] for x in bfs_edges if x[1] not in empirical_nodes or pd.isnull(data_row[x[1]])]\n",
    "        for node in bfs_nodes:\n",
    "            neighbors = G.neighbors(node)\n",
    "            # get data from neighbors\n",
    "            datas = [data_row.get(n, propagate_point) for n in neighbors]\n",
    "            # get data from ourself\n",
    "            datas.append(data_row.get(node, propagate_point))\n",
    "            # filter out nans\n",
    "            datas = filter(lambda x: not pd.isnull(x), datas)\n",
    "            data_row[node] = np.mean(datas)\n",
    "    if rownum % 1000 == 0:\n",
    "        print rownum, len(current), (datetime.now()-t).total_seconds()\n",
    "        t = datetime.now()\n",
    "    result = result.append(data_row)"
   ]
  },
  {
   "cell_type": "code",
   "execution_count": 331,
   "metadata": {
    "collapsed": false
   },
   "outputs": [
    {
     "data": {
      "image/png": "[encoded data removed]",
      "text/plain": [
       "<matplotlib.figure.Figure at 0x7fc4c6578ad0>"
      ]
     },
     "metadata": {},
     "output_type": "display_data"
    }
   ],
   "source": [
    "# compute whether or not temperature going up or not\n",
    "df = result.copy()\n",
    "diffs = df.interpolate(method='time').diff(axis=0)\n",
    "diffs[diffs > 0] = 1\n",
    "diffs[diffs < 0] = 0\n",
    "diffs = diffs.fillna(0)\n",
    "diffs.plot(legend=False)\n",
    "diffs.tail()\n",
    "diffs.to_csv(\"soda_amplab_data.csv\",sep=\"\\t\",header=False,index=False)"
   ]
  },
  {
   "cell_type": "code",
   "execution_count": 62,
   "metadata": {
    "collapsed": true
   },
   "outputs": [],
   "source": [
    "# TODO: need a method that takes the log likelihood and theta from the\n",
    "# output and then associates them with the edges\n",
    "# TODO: compare different methods and look at their log-likelihoods (which one maximizes?!)\n",
    "# TODO: make the list of figures you will have"
   ]
  },
  {
   "cell_type": "code",
   "execution_count": 63,
   "metadata": {
    "collapsed": true
   },
   "outputs": [],
   "source": [
    "def dump(edges, theta):\n",
    "    res = \"\"\n",
    "    for i, e in enumerate(edges):\n",
    "        res += '\\nEdge {0} => {1}'.format(e, str(theta[i]).replace('\\n','\\n\\t\\t'))\n",
    "    print res"
   ]
  },
  {
   "cell_type": "markdown",
   "metadata": {},
   "source": [
    "### Figures to Generate\n",
    "\n",
    "Likelihood plots:\n",
    "- likelihood (y axis) vs bucket (x axis); overlay min/mean/max\n",
    "\n",
    "Visualize the thetas:\n",
    "- some sort of confusion matrix plot?"
   ]
  },
  {
   "cell_type": "code",
   "execution_count": 334,
   "metadata": {
    "collapsed": false
   },
   "outputs": [
    {
     "data": {
      "text/plain": [
       "<matplotlib.text.Text at 0x7fc4c646a810>"
      ]
     },
     "execution_count": 334,
     "metadata": {},
     "output_type": "execute_result"
    },
    {
     "data": {
      "image/png": "[encoded data removed]",
      "text/plain": [
       "<matplotlib.figure.Figure at 0x7fc4c64f7710>"
      ]
     },
     "metadata": {},
     "output_type": "display_data"
    }
   ],
   "source": [
    "soda_mean_likelihoods = {\n",
    "    '10min': -4840.9,\n",
    "    '5min': -10319,\n",
    "    '30min': -1494,\n",
    "    '30sec': -118180,\n",
    "    '1min': -59077,\n",
    "}\n",
    "soda_min_likelihoods = {\n",
    "    '10min': -4658.3,\n",
    "    '5min': -9423.7,\n",
    "    '1min': -48513,\n",
    "    '30sec': -97156,\n",
    "    '30min': -1504,\n",
    "}\n",
    "soda_max_likelihoods = {\n",
    "    '30min': -1487.6,\n",
    "    '10min': -4532,\n",
    "    '5min': -9476.3,\n",
    "    '1min': -48019,\n",
    "    '30sec': -96943,\n",
    "}\n",
    "dfmax = pd.DataFrame.from_dict(soda_max_likelihoods, orient='index')\n",
    "dfmax.columns = ['max']\n",
    "dfmin = pd.DataFrame.from_dict(soda_min_likelihoods, orient='index')\n",
    "dfmin.columns = ['min']\n",
    "dfmean = pd.DataFrame.from_dict(soda_mean_likelihoods, orient='index')\n",
    "dfmean.columns = ['mean']\n",
    "sodadf = pd.merge(dfmax, dfmin, left_index=True, right_index=True,how='left')\n",
    "sodadf = pd.merge(sodadf, dfmean, left_index=True, right_index=True,how='left')\n",
    "sodadf = sodadf.reindex(['30sec','1min','5min','10min','30min'])\n",
    "fig = sodadf.plot(style='-o')\n",
    "fig.set_ylabel('Log likelihood')\n",
    "fig.set_xlabel('Data bucket size')"
   ]
  },
  {
   "cell_type": "code",
   "execution_count": 335,
   "metadata": {
    "collapsed": false
   },
   "outputs": [
    {
     "data": {
      "text/plain": [
       "<matplotlib.text.Text at 0x7fc4c6e1d150>"
      ]
     },
     "execution_count": 335,
     "metadata": {},
     "output_type": "execute_result"
    },
    {
     "data": {
      "image/png": "[encoded data removed]",
      "text/plain": [
       "<matplotlib.figure.Figure at 0x7fc4c6de6490>"
      ]
     },
     "metadata": {},
     "output_type": "display_data"
    }
   ],
   "source": [
    "soda_mean_likelihoods = {\n",
    "    '10min': -4417.4,\n",
    "    '5min': -9642.5,\n",
    "    '1min': -57480,\n",
    "    '30min': -1324,\n",
    "    '30sec': -115530,\n",
    "}\n",
    "soda_min_likelihoods = {\n",
    "    '10min': -4339.1,\n",
    "    '5min': -8936.8,\n",
    "    '1min': -47457,\n",
    "    '30sec': -95584,\n",
    "    '30min': -1345.8,\n",
    "}\n",
    "soda_max_likelihoods = {\n",
    "    '30min': -1487.6,\n",
    "    '10min': -4231.8,\n",
    "    '5min': -8989,\n",
    "    '1min': -47006,\n",
    "    '30sec': -95404,\n",
    "}\n",
    "dfmax = pd.DataFrame.from_dict(soda_max_likelihoods, orient='index')\n",
    "dfmax.columns = ['max']\n",
    "dfmin = pd.DataFrame.from_dict(soda_min_likelihoods, orient='index')\n",
    "dfmin.columns = ['min']\n",
    "dfmean = pd.DataFrame.from_dict(soda_mean_likelihoods, orient='index')\n",
    "dfmean.columns = ['mean']\n",
    "sodadf = pd.merge(dfmax, dfmin, left_index=True, right_index=True,how='left')\n",
    "sodadf = pd.merge(sodadf, dfmean, left_index=True, right_index=True,how='left')\n",
    "sodadf = sodadf.reindex(['30sec','1min','5min','10min','30min'])\n",
    "fig = sodadf.plot(style='-o')\n",
    "fig.set_ylabel('Log likelihood')\n",
    "fig.set_xlabel('Data bucket size')"
   ]
  },
  {
   "cell_type": "code",
   "execution_count": 355,
   "metadata": {
    "collapsed": false
   },
   "outputs": [
    {
     "data": {
      "image/png": "[encoded data removed]",
      "text/plain": [
       "<matplotlib.figure.Figure at 0x7fc4c5713350>"
      ]
     },
     "metadata": {},
     "output_type": "display_data"
    }
   ],
   "source": [
    "# grab entries from the thetas\n",
    "def get_entries(bucket, sample, edges, nodes, coord):\n",
    "    rows = [[] for n in nodes]\n",
    "    filefmt = 'soda_amplab_{0}_{1}_theta'.format(bucket, sample)\n",
    "    theta = np.loadtxt(filefmt, skiprows=5)\n",
    "    num_edges = len(theta) / 4\n",
    "    theta = theta.reshape(num_edges,2,2)\n",
    "    for rownode in nodes:\n",
    "        for colnode in nodes:\n",
    "            e1 = (rownode, colnode)\n",
    "            e2 = (colnode, rownode)\n",
    "            e = None\n",
    "            if e1 in edges:\n",
    "                e = e1\n",
    "            elif e2 in edges:\n",
    "                e = e2\n",
    "            else:\n",
    "                #print e1, e2\n",
    "                rows[rownode-1].append(0)\n",
    "                continue\n",
    "            #print e\n",
    "            tt = theta[edges.index(e)]\n",
    "            rows[rownode-1].append(tt[coord])\n",
    "    rows = np.array(rows)\n",
    "\n",
    "    fig = plt.figure()\n",
    "    plt.clf()\n",
    "    ax = fig.add_subplot(111)\n",
    "    ax.set_aspect(1)\n",
    "    res = ax.imshow(np.array(rows), cmap=plt.cm.jet, \n",
    "                    interpolation='nearest')\n",
    "\n",
    "    width, height = rows.shape\n",
    "\n",
    "    for x in xrange(width):\n",
    "        for y in xrange(height):\n",
    "            ax.annotate('{:.1f}'.format(rows[x][y]), xy=(y, x), \n",
    "                        horizontalalignment='center',\n",
    "                        verticalalignment='center')\n",
    "    b = fig.colorbar(res)\n",
    "    plt.xticks(range(width), nodes[:width])\n",
    "    plt.yticks(range(height), nodes[:height])\n",
    "get_entries('30min','min_full', full_edges, range(1,12), (1,0))"
   ]
  },
  {
   "cell_type": "markdown",
   "metadata": {},
   "source": [
    "Soda hall figures:\n",
    "\n",
    "- 1, 5, 10, 30 min resolution\n",
    "- min/max/mean bucket\n",
    "- 'structured' vs fully connected"
   ]
  },
  {
   "cell_type": "code",
   "execution_count": 227,
   "metadata": {
    "collapsed": false
   },
   "outputs": [],
   "source": [
    "# RESULTS\n",
    "# loglikelihood =  -4840.9\n",
    "theta = np.loadtxt('soda_amplab_10min_mean_theta',skiprows=5)\n",
    "num_edges = len(theta) / 4\n",
    "theta = theta.reshape(num_edges,2,2)\n",
    "#dump(edges, theta)\n",
    "# TODO: networkx code to visualizeeeeee"
   ]
  },
  {
   "cell_type": "code",
   "execution_count": 226,
   "metadata": {
    "collapsed": false
   },
   "outputs": [],
   "source": [
    "# loglikelihood = -10319\n",
    "theta = np.loadtxt('soda_amplab_5min_mean_theta',skiprows=5)\n",
    "num_edges = len(theta) / 4\n",
    "theta = theta.reshape(num_edges,2,2)\n",
    "#dump(edges, theta)"
   ]
  },
  {
   "cell_type": "code",
   "execution_count": 225,
   "metadata": {
    "collapsed": false
   },
   "outputs": [],
   "source": [
    "# loglikelihood = -1494.0\n",
    "# 30m\n",
    "theta = np.loadtxt('soda_amplab_30min_mean_theta',skiprows=5)\n",
    "num_edges = len(theta) / 4\n",
    "theta = theta.reshape(num_edges,2,2)\n",
    "#dump(edges, theta)"
   ]
  },
  {
   "cell_type": "code",
   "execution_count": 333,
   "metadata": {
    "collapsed": true
   },
   "outputs": [],
   "source": [
    "# ll =   -5.9077e+04\n",
    "# 1min\n",
    "theta = np.loadtxt('soda_amplab_1min_mean_theta',skiprows=5)\n",
    "num_edges = len(theta) / 4\n",
    "theta = theta.reshape(num_edges,2,2)"
   ]
  },
  {
   "cell_type": "code",
   "execution_count": 224,
   "metadata": {
    "collapsed": false
   },
   "outputs": [],
   "source": [
    "# loglikelihood = -118180\n",
    "# 30s\n",
    "theta = np.loadtxt('soda_amplab_30sec_mean_theta',skiprows=5)\n",
    "num_edges = len(theta) / 4\n",
    "theta = theta.reshape(num_edges,2,2)\n",
    "#dump(edges, theta)"
   ]
  },
  {
   "cell_type": "code",
   "execution_count": 223,
   "metadata": {
    "collapsed": false
   },
   "outputs": [],
   "source": [
    "# loglikelihood = -1504.0\n",
    "# 30min min\n",
    "theta = np.loadtxt('soda_amplab_30min_min_theta',skiprows=5)\n",
    "num_edges = len(theta) / 4\n",
    "theta = theta.reshape(num_edges,2,2)\n",
    "#dump(edges, theta)"
   ]
  },
  {
   "cell_type": "code",
   "execution_count": 222,
   "metadata": {
    "collapsed": false
   },
   "outputs": [],
   "source": [
    "# loglikelihood = -4658.3\n",
    "# 10min min\n",
    "theta = np.loadtxt('soda_amplab_10min_min_theta',skiprows=5)\n",
    "num_edges = len(theta) / 4\n",
    "theta = theta.reshape(num_edges,2,2)\n",
    "#dump(edges, theta)"
   ]
  },
  {
   "cell_type": "code",
   "execution_count": 221,
   "metadata": {
    "collapsed": false
   },
   "outputs": [],
   "source": [
    "# ll = -9423.7 \n",
    "# 5min min\n",
    "theta = np.loadtxt('soda_amplab_5min_min_theta',skiprows=5)\n",
    "num_edges = len(theta) / 4\n",
    "theta = theta.reshape(num_edges,2,2)\n",
    "#dump(edges, theta)"
   ]
  },
  {
   "cell_type": "code",
   "execution_count": 220,
   "metadata": {
    "collapsed": false
   },
   "outputs": [],
   "source": [
    "# ll =   -48513\n",
    "# 1min min\n",
    "theta = np.loadtxt('soda_amplab_1min_min_theta',skiprows=5)\n",
    "num_edges = len(theta) / 4\n",
    "theta = theta.reshape(num_edges,2,2)\n",
    "#dump(edges, theta)"
   ]
  },
  {
   "cell_type": "code",
   "execution_count": 219,
   "metadata": {
    "collapsed": false
   },
   "outputs": [],
   "source": [
    "# -97156\n",
    "# 30sec min\n",
    "theta = np.loadtxt('soda_amplab_30sec_min_theta',skiprows=5)\n",
    "num_edges = len(theta) / 4\n",
    "theta = theta.reshape(num_edges,2,2)\n",
    "#dump(edges, theta)"
   ]
  },
  {
   "cell_type": "code",
   "execution_count": 218,
   "metadata": {
    "collapsed": false
   },
   "outputs": [],
   "source": [
    "# MAX\n",
    "# ll = -1487.6 \n",
    "# 30min max\n",
    "theta = np.loadtxt('soda_amplab_30min_max_theta',skiprows=5)\n",
    "num_edges = len(theta) / 4\n",
    "theta = theta.reshape(num_edges,2,2)\n",
    "#dump(edges, theta)"
   ]
  },
  {
   "cell_type": "code",
   "execution_count": 217,
   "metadata": {
    "collapsed": false
   },
   "outputs": [],
   "source": [
    "# ll = -4532.0\n",
    "# 10min max\n",
    "theta = np.loadtxt('soda_amplab_10min_max_theta',skiprows=5)\n",
    "num_edges = len(theta) / 4\n",
    "theta = theta.reshape(num_edges,2,2)\n",
    "#dump(edges, theta)"
   ]
  },
  {
   "cell_type": "code",
   "execution_count": 216,
   "metadata": {
    "collapsed": false
   },
   "outputs": [],
   "source": [
    "# ll = -9476.3\n",
    "# 5min max\n",
    "theta = np.loadtxt('soda_amplab_5min_max_theta',skiprows=5)\n",
    "num_edges = len(theta) / 4\n",
    "theta = theta.reshape(num_edges,2,2)\n",
    "#dump(edges, theta)"
   ]
  },
  {
   "cell_type": "code",
   "execution_count": 215,
   "metadata": {
    "collapsed": false
   },
   "outputs": [],
   "source": [
    "# ll =  -48019\n",
    "# 1min max\n",
    "theta = np.loadtxt('soda_amplab_1min_max_theta',skiprows=5)\n",
    "num_edges = len(theta) / 4\n",
    "theta = theta.reshape(num_edges,2,2)\n",
    "#dump(edges, theta)"
   ]
  },
  {
   "cell_type": "code",
   "execution_count": 214,
   "metadata": {
    "collapsed": false
   },
   "outputs": [],
   "source": [
    "# ll = -96943\n",
    "# 30s max\n",
    "theta = np.loadtxt('soda_amplab_30sec_max_theta',skiprows=5)\n",
    "num_edges = len(theta) / 4\n",
    "theta = theta.reshape(num_edges,2,2)\n",
    "#dump(edges, theta)"
   ]
  },
  {
   "cell_type": "markdown",
   "metadata": {},
   "source": [
    "## Fully Connected"
   ]
  },
  {
   "cell_type": "code",
   "execution_count": 213,
   "metadata": {
    "collapsed": false
   },
   "outputs": [],
   "source": [
    "# ll = -1324.0\n",
    "# 30min mean\n",
    "theta = np.loadtxt('soda_amplab_30min_mean_full_theta',skiprows=5)\n",
    "num_edges = len(theta) / 4\n",
    "theta = theta.reshape(num_edges,2,2)\n",
    "#dump(edges, theta)"
   ]
  },
  {
   "cell_type": "code",
   "execution_count": 174,
   "metadata": {
    "collapsed": false
   },
   "outputs": [],
   "source": [
    "# ll = -4417.4\n",
    "# 10min mean\n",
    "theta = np.loadtxt('soda_amplab_10min_mean_full_theta',skiprows=5)\n",
    "num_edges = len(theta) / 4\n",
    "theta = theta.reshape(num_edges,2,2)\n",
    "#dump(edges, theta)"
   ]
  },
  {
   "cell_type": "code",
   "execution_count": 173,
   "metadata": {
    "collapsed": false
   },
   "outputs": [],
   "source": [
    "# ll = -9642.5\n",
    "# 5min mean\n",
    "theta = np.loadtxt('soda_amplab_5min_mean_full_theta',skiprows=5)\n",
    "num_edges = len(theta) / 4\n",
    "theta = theta.reshape(num_edges,2,2)\n",
    "#dump(edges, theta)"
   ]
  },
  {
   "cell_type": "code",
   "execution_count": 172,
   "metadata": {
    "collapsed": false
   },
   "outputs": [],
   "source": [
    "# ll = -57480\n",
    "# 1min mean\n",
    "theta = np.loadtxt('soda_amplab_1min_mean_full_theta',skiprows=5)\n",
    "num_edges = len(theta) / 4\n",
    "theta = theta.reshape(num_edges,2,2)\n",
    "#dump(edges, theta)"
   ]
  },
  {
   "cell_type": "code",
   "execution_count": 171,
   "metadata": {
    "collapsed": false
   },
   "outputs": [],
   "source": [
    "# ll = -115530\n",
    "# 30sec mean\n",
    "theta = np.loadtxt('soda_amplab_30sec_mean_full_theta',skiprows=5)\n",
    "num_edges = len(theta) / 4\n",
    "theta = theta.reshape(num_edges,2,2)\n",
    "#dump(edges, theta)"
   ]
  },
  {
   "cell_type": "code",
   "execution_count": 307,
   "metadata": {
    "collapsed": true
   },
   "outputs": [],
   "source": [
    "# ll = -1345.8 \n",
    "# 30min min\n",
    "theta = np.loadtxt('soda_amplab_30min_min_full_theta',skiprows=5)\n",
    "num_edges = len(theta) / 4\n",
    "theta = theta.reshape(num_edges,2,2)"
   ]
  },
  {
   "cell_type": "code",
   "execution_count": 209,
   "metadata": {
    "collapsed": true
   },
   "outputs": [],
   "source": [
    "# ll = -4339.1\n",
    "# 10min min \n",
    "theta = np.loadtxt('soda_amplab_10min_min_full_theta',skiprows=5)\n",
    "num_edges = len(theta) / 4\n",
    "theta = theta.reshape(num_edges,2,2)\n",
    "#dump(edges, theta)"
   ]
  },
  {
   "cell_type": "code",
   "execution_count": 210,
   "metadata": {
    "collapsed": true
   },
   "outputs": [],
   "source": [
    "# ll = -8936.8\n",
    "# 5min min\n",
    "theta = np.loadtxt('soda_amplab_5min_min_full_theta',skiprows=5)\n",
    "num_edges = len(theta) / 4\n",
    "theta = theta.reshape(num_edges,2,2)\n",
    "#dump(edges, theta)"
   ]
  },
  {
   "cell_type": "code",
   "execution_count": 211,
   "metadata": {
    "collapsed": true
   },
   "outputs": [],
   "source": [
    "# ll = -47457\n",
    "# 1min min\n",
    "theta = np.loadtxt('soda_amplab_1min_min_full_theta',skiprows=5)\n",
    "num_edges = len(theta) / 4\n",
    "theta = theta.reshape(num_edges,2,2)\n",
    "#dump(edges, theta)"
   ]
  },
  {
   "cell_type": "code",
   "execution_count": 212,
   "metadata": {
    "collapsed": true
   },
   "outputs": [],
   "source": [
    "# ll =   -95584\n",
    "# 30sec min\n",
    "theta = np.loadtxt('soda_amplab_30sec_min_full_theta',skiprows=5)\n",
    "num_edges = len(theta) / 4\n",
    "theta = theta.reshape(num_edges,2,2)\n",
    "#dump(edges, theta)"
   ]
  },
  {
   "cell_type": "code",
   "execution_count": 308,
   "metadata": {
    "collapsed": true
   },
   "outputs": [],
   "source": [
    "# MAX"
   ]
  },
  {
   "cell_type": "code",
   "execution_count": 350,
   "metadata": {
    "collapsed": true
   },
   "outputs": [],
   "source": [
    "# ll = -1329.2\n",
    "# 30min max\n",
    "theta = np.loadtxt('soda_amplab_30min_max_full_theta',skiprows=5)\n",
    "num_edges = len(theta) / 4\n",
    "theta = theta.reshape(num_edges,2,2)"
   ]
  },
  {
   "cell_type": "code",
   "execution_count": 325,
   "metadata": {
    "collapsed": false
   },
   "outputs": [],
   "source": [
    "# ll = -4231.8\n",
    "# 10min max\n",
    "theta = np.loadtxt('soda_amplab_10min_max_full_theta',skiprows=5)\n",
    "num_edges = len(theta) / 4\n",
    "theta = theta.reshape(num_edges,2,2)"
   ]
  },
  {
   "cell_type": "code",
   "execution_count": 311,
   "metadata": {
    "collapsed": true
   },
   "outputs": [],
   "source": [
    "# ll = -8989.0\n",
    "# 5min max\n",
    "theta = np.loadtxt('soda_amplab_5min_max_full_theta',skiprows=5)\n",
    "num_edges = len(theta) / 4\n",
    "theta = theta.reshape(num_edges,2,2)"
   ]
  },
  {
   "cell_type": "code",
   "execution_count": 310,
   "metadata": {
    "collapsed": true
   },
   "outputs": [],
   "source": [
    "# ll =   -47006\n",
    "# 1min max\n",
    "theta = np.loadtxt('soda_amplab_1min_max_full_theta',skiprows=5)\n",
    "num_edges = len(theta) / 4\n",
    "theta = theta.reshape(num_edges,2,2)"
   ]
  },
  {
   "cell_type": "code",
   "execution_count": 309,
   "metadata": {
    "collapsed": true
   },
   "outputs": [],
   "source": [
    "# ll =   -95404\n",
    "# 30sec max\n",
    "theta = np.loadtxt('soda_amplab_30sec_max_full_theta',skiprows=5)\n",
    "num_edges = len(theta) / 4\n",
    "theta = theta.reshape(num_edges,2,2)"
   ]
  },
  {
   "cell_type": "code",
   "execution_count": null,
   "metadata": {
    "collapsed": true
   },
   "outputs": [],
   "source": []
  }
 ],
 "metadata": {
  "kernelspec": {
   "display_name": "Python 2",
   "language": "python",
   "name": "python2"
  },
  "language_info": {
   "codemirror_mode": {
    "name": "ipython",
    "version": 2
   },
   "file_extension": ".py",
   "mimetype": "text/x-python",
   "name": "python",
   "nbconvert_exporter": "python",
   "pygments_lexer": "ipython2",
   "version": "2.7.12"
  }
 },
 "nbformat": 4,
 "nbformat_minor": 0
}

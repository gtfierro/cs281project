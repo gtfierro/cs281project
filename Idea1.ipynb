{
 "cells": [
  {
   "cell_type": "code",
   "execution_count": 101,
   "metadata": {
    "collapsed": false
   },
   "outputs": [
    {
     "name": "stdout",
     "output_type": "stream",
     "text": [
      "SDH_floor_4_temperature_uuids.json\n",
      "\n",
      "downloaded 2955854b from 30 urls in 2.137s (1.384MB/s download: 2.136s, parse: 0.233522s)\n"
     ]
    }
   ],
   "source": [
    "from smap.archiver.client import SmapClient                                                                                                                                                                                                                                                                                   \n",
    "from smap.contrib import dtutil                                                                                                                                                                                                                                                                                               \n",
    "import json                                                                                                                                                                                                                                                                                                                   \n",
    "import sys      \n",
    "import pandas as pd\n",
    "from matplotlib import pyplot as plt\n",
    "%matplotlib inline\n",
    "# fetch data\n",
    "c = SmapClient(\"http://new.openbms.org:8079\")                                                                                                                                                                                                                                                                                 \n",
    "uuid_file = \"SDH_floor_4_temperature_uuids.json\"                                                                                                                                                                                                                                                                                                      \n",
    "start_time = dtutil.dt2ts(dtutil.strptime_tz(\"10-30-2016\", \"%m-%d-%Y\"))                                                                                                                                                                                                                                                       \n",
    "end_time = dtutil.dt2ts(dtutil.strptime_tz(\"11-30-2016\", \"%m-%d-%Y\"))                                                                                                                                                                                                                                                         \n",
    "                                                                                                                                                                                                                                                                                                                              \n",
    "print uuid_file                                                                                                                                                                                                                                                                                                               \n",
    "uuids = json.load(open(uuid_file))\n",
    "data = c.data_uuid(uuids, start_time, end_time,limit=100000)\n"
   ]
  },
  {
   "cell_type": "code",
   "execution_count": 124,
   "metadata": {
    "collapsed": false
   },
   "outputs": [],
   "source": [
    "metadata_file = 'SDH_floor_4_metadata.json'\n",
    "_metadata = json.load(open(metadata_file))\n",
    "metadata = {}\n",
    "for doc in _metadata:\n",
    "    metadata[doc['uuid']] = doc\n",
    "    metadata[doc['Metadata']['Instrument']['PartNumber']] = doc\n",
    "\n",
    "def uuid_to_ketiid(uuid):\n",
    "    return metadata[uuid]['Metadata']['Instrument']['PartNumber']"
   ]
  },
  {
   "cell_type": "code",
   "execution_count": 125,
   "metadata": {
    "collapsed": false
   },
   "outputs": [
    {
     "name": "stdout",
     "output_type": "stream",
     "text": [
      "0bfbd947-40a2-5454-a352-1375790c604d 1707    4763\n",
      "dtype: int64\n",
      "19dac044-e8ae-5ed4-a789-a46d2cd9d375 1709    7949\n",
      "dtype: int64\n",
      "1f17fd93-8009-5153-926f-54395c421d93 1715    162\n",
      "dtype: int64\n",
      "27e71c02-6a7c-5d29-9d7e-3b437f9f6c46 1706    6128\n",
      "dtype: int64\n",
      "2a756197-f1b3-56eb-ab87-a61111bdd80b 1624    438\n",
      "dtype: int64\n",
      "2e22715f-9d3e-5c5d-b90c-8b6226e29cca 1712    7960\n",
      "dtype: int64\n",
      "31e75b66-41bf-518d-a144-f3e144f396e5 1713    7963\n",
      "dtype: int64\n",
      "3d4496b0-63e8-5d88-890a-cbce6f1202a6 1716    7962\n",
      "dtype: int64\n",
      "41d4673c-0926-5c58-91a3-7c440ed6962c 1631    1854\n",
      "dtype: int64\n",
      "4fa00ebf-6387-5183-b987-2b54e1031ec4 1627    4278\n",
      "dtype: int64\n",
      "6b0b7685-fd48-5d27-840c-d730ed6681d7 1628    688\n",
      "dtype: int64\n",
      "6d03bfef-f70e-5c58-953c-d9b52c41835c 1632    2969\n",
      "dtype: int64\n",
      "9165f400-355d-506a-8afa-421273d02010 1702    409\n",
      "dtype: int64\n",
      "a988771e-b6c8-5b2e-9c23-ad88e5efe3e6 1630    377\n",
      "dtype: int64\n",
      "c796ac06-e7fc-5127-b105-ebc3101a43be 1622    7939\n",
      "dtype: int64\n",
      "d0184967-52c2-5c3f-ad90-6e49f10faa7e 1629    7959\n",
      "dtype: int64\n"
     ]
    }
   ],
   "source": [
    "# build data frames\n",
    "temperatures = {}\n",
    "for uuid, datas in zip(uuids, data):             \n",
    "    if len(datas) == 0: continue\n",
    "    df = pd.DataFrame.from_records(datas)\n",
    "    df = df.set_index(pd.to_datetime(df.pop(0), unit='ms'))\n",
    "    df = df.resample('5min').mean()\n",
    "    df.columns = [uuid_to_ketiid(uuid)]\n",
    "    temperatures[uuid] = df\n",
    "    print uuid, df.count()"
   ]
  },
  {
   "cell_type": "code",
   "execution_count": 126,
   "metadata": {
    "collapsed": false
   },
   "outputs": [
    {
     "name": "stdout",
     "output_type": "stream",
     "text": [
      "8585\n"
     ]
    },
    {
     "data": {
      "text/plain": [
       "<matplotlib.axes._subplots.AxesSubplot at 0x7f19cd1b6810>"
      ]
     },
     "execution_count": 126,
     "metadata": {},
     "output_type": "execute_result"
    },
    {
     "data": {
      "image/png": "[encoded data removed]",
      "text/plain": [
       "<matplotlib.figure.Figure at 0x7f19cd1edf90>"
      ]
     },
     "metadata": {},
     "output_type": "display_data"
    }
   ],
   "source": [
    "# merge all timeseries into the same data frame\n",
    "dfs = temperatures.values()\n",
    "current = dfs[0]\n",
    "for df in dfs[1:]:\n",
    "    current = current.merge(df, how='outer',left_index=True, right_index=True)\n",
    "print len(current)\n",
    "current.plot(legend=False)"
   ]
  },
  {
   "cell_type": "code",
   "execution_count": 127,
   "metadata": {
    "collapsed": false
   },
   "outputs": [],
   "source": [
    "df = current.copy()"
   ]
  },
  {
   "cell_type": "code",
   "execution_count": 128,
   "metadata": {
    "collapsed": false
   },
   "outputs": [
    {
     "data": {
      "text/plain": [
       "<matplotlib.axes._subplots.AxesSubplot at 0x7f19cde5d5d0>"
      ]
     },
     "execution_count": 128,
     "metadata": {},
     "output_type": "execute_result"
    },
    {
     "data": {
      "image/png": "[encoded data removed]",
      "text/plain": [
       "<matplotlib.figure.Figure at 0x7f19eb9bc050>"
      ]
     },
     "metadata": {},
     "output_type": "display_data"
    }
   ],
   "source": [
    "# compute whether or not temperature going up or not\n",
    "diffs = df.interpolate(method='time').diff(axis=0)\n",
    "diffs[diffs > 0] = 1\n",
    "diffs[diffs < 0] = -1\n",
    "diffs = diffs.fillna(0)\n",
    "diffs.plot(legend=False)"
   ]
  },
  {
   "cell_type": "code",
   "execution_count": 129,
   "metadata": {
    "collapsed": false
   },
   "outputs": [
    {
     "data": {
      "text/html": [
       "<div>\n",
       "<table border=\"1\" class=\"dataframe\">\n",
       "  <thead>\n",
       "    <tr style=\"text-align: right;\">\n",
       "      <th></th>\n",
       "      <th>1706</th>\n",
       "      <th>1702</th>\n",
       "      <th>1632</th>\n",
       "      <th>1630</th>\n",
       "      <th>1712</th>\n",
       "      <th>1627</th>\n",
       "      <th>1629</th>\n",
       "      <th>1628</th>\n",
       "      <th>1716</th>\n",
       "      <th>1713</th>\n",
       "      <th>1631</th>\n",
       "      <th>1707</th>\n",
       "      <th>1715</th>\n",
       "      <th>1624</th>\n",
       "      <th>1709</th>\n",
       "      <th>1622</th>\n",
       "    </tr>\n",
       "    <tr>\n",
       "      <th>0</th>\n",
       "      <th></th>\n",
       "      <th></th>\n",
       "      <th></th>\n",
       "      <th></th>\n",
       "      <th></th>\n",
       "      <th></th>\n",
       "      <th></th>\n",
       "      <th></th>\n",
       "      <th></th>\n",
       "      <th></th>\n",
       "      <th></th>\n",
       "      <th></th>\n",
       "      <th></th>\n",
       "      <th></th>\n",
       "      <th></th>\n",
       "      <th></th>\n",
       "    </tr>\n",
       "  </thead>\n",
       "  <tbody>\n",
       "    <tr>\n",
       "      <th>2016-11-29 02:00:00</th>\n",
       "      <td>0.0</td>\n",
       "      <td>0.0</td>\n",
       "      <td>0.0</td>\n",
       "      <td>0.0</td>\n",
       "      <td>-1.0</td>\n",
       "      <td>0.0</td>\n",
       "      <td>-1.0</td>\n",
       "      <td>0.0</td>\n",
       "      <td>-1.0</td>\n",
       "      <td>-1.0</td>\n",
       "      <td>0.0</td>\n",
       "      <td>0.0</td>\n",
       "      <td>0.0</td>\n",
       "      <td>0.0</td>\n",
       "      <td>-1.0</td>\n",
       "      <td>-1.0</td>\n",
       "    </tr>\n",
       "    <tr>\n",
       "      <th>2016-11-29 02:05:00</th>\n",
       "      <td>0.0</td>\n",
       "      <td>0.0</td>\n",
       "      <td>0.0</td>\n",
       "      <td>0.0</td>\n",
       "      <td>-1.0</td>\n",
       "      <td>0.0</td>\n",
       "      <td>-1.0</td>\n",
       "      <td>0.0</td>\n",
       "      <td>-1.0</td>\n",
       "      <td>-1.0</td>\n",
       "      <td>0.0</td>\n",
       "      <td>0.0</td>\n",
       "      <td>0.0</td>\n",
       "      <td>0.0</td>\n",
       "      <td>-1.0</td>\n",
       "      <td>-1.0</td>\n",
       "    </tr>\n",
       "    <tr>\n",
       "      <th>2016-11-29 02:10:00</th>\n",
       "      <td>0.0</td>\n",
       "      <td>0.0</td>\n",
       "      <td>0.0</td>\n",
       "      <td>0.0</td>\n",
       "      <td>-1.0</td>\n",
       "      <td>0.0</td>\n",
       "      <td>-1.0</td>\n",
       "      <td>0.0</td>\n",
       "      <td>-1.0</td>\n",
       "      <td>-1.0</td>\n",
       "      <td>0.0</td>\n",
       "      <td>0.0</td>\n",
       "      <td>0.0</td>\n",
       "      <td>0.0</td>\n",
       "      <td>-1.0</td>\n",
       "      <td>-1.0</td>\n",
       "    </tr>\n",
       "    <tr>\n",
       "      <th>2016-11-29 02:15:00</th>\n",
       "      <td>0.0</td>\n",
       "      <td>0.0</td>\n",
       "      <td>0.0</td>\n",
       "      <td>0.0</td>\n",
       "      <td>-1.0</td>\n",
       "      <td>0.0</td>\n",
       "      <td>-1.0</td>\n",
       "      <td>0.0</td>\n",
       "      <td>-1.0</td>\n",
       "      <td>-1.0</td>\n",
       "      <td>0.0</td>\n",
       "      <td>0.0</td>\n",
       "      <td>0.0</td>\n",
       "      <td>0.0</td>\n",
       "      <td>-1.0</td>\n",
       "      <td>-1.0</td>\n",
       "    </tr>\n",
       "    <tr>\n",
       "      <th>2016-11-29 02:20:00</th>\n",
       "      <td>0.0</td>\n",
       "      <td>0.0</td>\n",
       "      <td>0.0</td>\n",
       "      <td>0.0</td>\n",
       "      <td>-1.0</td>\n",
       "      <td>0.0</td>\n",
       "      <td>1.0</td>\n",
       "      <td>0.0</td>\n",
       "      <td>-1.0</td>\n",
       "      <td>-1.0</td>\n",
       "      <td>0.0</td>\n",
       "      <td>0.0</td>\n",
       "      <td>0.0</td>\n",
       "      <td>0.0</td>\n",
       "      <td>-1.0</td>\n",
       "      <td>-1.0</td>\n",
       "    </tr>\n",
       "  </tbody>\n",
       "</table>\n",
       "</div>"
      ],
      "text/plain": [
       "                     1706  1702  1632  1630  1712  1627  1629  1628  1716  \\\n",
       "0                                                                           \n",
       "2016-11-29 02:00:00   0.0   0.0   0.0   0.0  -1.0   0.0  -1.0   0.0  -1.0   \n",
       "2016-11-29 02:05:00   0.0   0.0   0.0   0.0  -1.0   0.0  -1.0   0.0  -1.0   \n",
       "2016-11-29 02:10:00   0.0   0.0   0.0   0.0  -1.0   0.0  -1.0   0.0  -1.0   \n",
       "2016-11-29 02:15:00   0.0   0.0   0.0   0.0  -1.0   0.0  -1.0   0.0  -1.0   \n",
       "2016-11-29 02:20:00   0.0   0.0   0.0   0.0  -1.0   0.0   1.0   0.0  -1.0   \n",
       "\n",
       "                     1713  1631  1707  1715  1624  1709  1622  \n",
       "0                                                              \n",
       "2016-11-29 02:00:00  -1.0   0.0   0.0   0.0   0.0  -1.0  -1.0  \n",
       "2016-11-29 02:05:00  -1.0   0.0   0.0   0.0   0.0  -1.0  -1.0  \n",
       "2016-11-29 02:10:00  -1.0   0.0   0.0   0.0   0.0  -1.0  -1.0  \n",
       "2016-11-29 02:15:00  -1.0   0.0   0.0   0.0   0.0  -1.0  -1.0  \n",
       "2016-11-29 02:20:00  -1.0   0.0   0.0   0.0   0.0  -1.0  -1.0  "
      ]
     },
     "execution_count": 129,
     "metadata": {},
     "output_type": "execute_result"
    }
   ],
   "source": [
    "diffs.tail()"
   ]
  },
  {
   "cell_type": "code",
   "execution_count": 120,
   "metadata": {
    "collapsed": true
   },
   "outputs": [],
   "source": [
    "diffs.to_csv(\"idea1.csv\",sep=\"\\t\",header=True,index=False)"
   ]
  },
  {
   "cell_type": "code",
   "execution_count": null,
   "metadata": {
    "collapsed": true
   },
   "outputs": [],
   "source": []
  }
 ],
 "metadata": {
  "kernelspec": {
   "display_name": "Python 2",
   "language": "python",
   "name": "python2"
  },
  "language_info": {
   "codemirror_mode": {
    "name": "ipython",
    "version": 2
   },
   "file_extension": ".py",
   "mimetype": "text/x-python",
   "name": "python",
   "nbconvert_exporter": "python",
   "pygments_lexer": "ipython2",
   "version": "2.7.12"
  }
 },
 "nbformat": 4,
 "nbformat_minor": 0
}
